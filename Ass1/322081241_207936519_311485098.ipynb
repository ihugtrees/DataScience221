{
 "cells": [
  {
   "cell_type": "markdown",
   "id": "c44143db",
   "metadata": {
    "_uuid": "e02fa7399570bf75d0b6d3d2ca37d037db1a13ff",
    "papermill": {
     "duration": 0.027802,
     "end_time": "2021-11-19T11:38:40.489314",
     "exception": false,
     "start_time": "2021-11-19T11:38:40.461512",
     "status": "completed"
    },
    "tags": []
   },
   "source": [
    "# Import the required modules"
   ]
  },
  {
   "cell_type": "code",
   "execution_count": 1,
   "id": "fd5bc6f0",
   "metadata": {
    "execution": {
     "iopub.execute_input": "2021-11-19T11:38:40.543464Z",
     "iopub.status.busy": "2021-11-19T11:38:40.542222Z",
     "iopub.status.idle": "2021-11-19T11:38:59.679422Z",
     "shell.execute_reply": "2021-11-19T11:38:59.678417Z",
     "shell.execute_reply.started": "2021-11-19T11:37:51.020937Z"
    },
    "papermill": {
     "duration": 19.165355,
     "end_time": "2021-11-19T11:38:59.679604",
     "exception": false,
     "start_time": "2021-11-19T11:38:40.514249",
     "status": "completed"
    },
    "tags": []
   },
   "outputs": [
    {
     "name": "stdout",
     "output_type": "stream",
     "text": [
      "Collecting git+https://github.com/goolig/dsClass.git\r\n",
      "  Cloning https://github.com/goolig/dsClass.git to /tmp/pip-req-build-qc8gnxrj\r\n",
      "  Running command git clone -q https://github.com/goolig/dsClass.git /tmp/pip-req-build-qc8gnxrj\r\n",
      "  Resolved https://github.com/goolig/dsClass.git to commit 67567d1d71a8a747c8a68c621045fe53ff139103\r\n",
      "Collecting pydotplus\r\n",
      "  Downloading pydotplus-2.0.2.tar.gz (278 kB)\r\n",
      "\u001b[K     |████████████████████████████████| 278 kB 3.2 MB/s \r\n",
      "\u001b[?25hRequirement already satisfied: pyparsing>=2.0.1 in /opt/conda/lib/python3.7/site-packages (from pydotplus->dsClass==1.0.27) (2.4.7)\r\n",
      "Building wheels for collected packages: dsClass, pydotplus\r\n",
      "  Building wheel for dsClass (setup.py) ... \u001b[?25l-\b \b\\\b \b|\b \b/\b \b-\b \b\\\b \b|\b \b/\b \b-\b \b\\\b \b|\b \bdone\r\n",
      "\u001b[?25h  Created wheel for dsClass: filename=dsClass-1.0.27-py3-none-any.whl size=16372733 sha256=d16aabbdc255d70ca71f17dbb76cb535f1b62b0a388229b29c6febb50223a43d\r\n",
      "  Stored in directory: /tmp/pip-ephem-wheel-cache-pkfbdc78/wheels/cc/7d/ca/f5036d591d94a23e6ab49777866b7fc723500ce0dcdb2a9b2e\r\n",
      "  Building wheel for pydotplus (setup.py) ... \u001b[?25l-\b \b\\\b \bdone\r\n",
      "\u001b[?25h  Created wheel for pydotplus: filename=pydotplus-2.0.2-py3-none-any.whl size=24575 sha256=6a01a0c605c696f05508de7a0a2a25b5c5f0604bbb5144537f18f0cd458e2dd5\r\n",
      "  Stored in directory: /root/.cache/pip/wheels/1e/7b/04/7387cf6cc9e48b4a96e361b0be812f0708b394b821bf8c9c50\r\n",
      "Successfully built dsClass pydotplus\r\n",
      "Installing collected packages: pydotplus, dsClass\r\n",
      "Successfully installed dsClass-1.0.27 pydotplus-2.0.2\r\n",
      "\u001b[33mWARNING: Running pip as the 'root' user can result in broken permissions and conflicting behaviour with the system package manager. It is recommended to use a virtual environment instead: https://pip.pypa.io/warnings/venv\u001b[0m\r\n"
     ]
    }
   ],
   "source": [
    "!pip install git+https://github.com/goolig/dsClass.git"
   ]
  },
  {
   "cell_type": "code",
   "execution_count": 2,
   "id": "32b5f968",
   "metadata": {
    "_uuid": "f3053207957a55dd128e2b97dee5b72eb2e011f7",
    "execution": {
     "iopub.execute_input": "2021-11-19T11:38:59.770993Z",
     "iopub.status.busy": "2021-11-19T11:38:59.770208Z",
     "iopub.status.idle": "2021-11-19T11:39:00.913119Z",
     "shell.execute_reply": "2021-11-19T11:39:00.913706Z",
     "shell.execute_reply.started": "2021-11-19T11:38:00.476644Z"
    },
    "papermill": {
     "duration": 1.192964,
     "end_time": "2021-11-19T11:39:00.913884",
     "exception": false,
     "start_time": "2021-11-19T11:38:59.720920",
     "status": "completed"
    },
    "tags": []
   },
   "outputs": [],
   "source": [
    "\n",
    "%matplotlib inline\n",
    "\n",
    "import pandas as pd\n",
    "import numpy as np\n",
    "import matplotlib.pyplot as plt\n",
    "from sklearn.feature_selection import SelectPercentile, f_classif, chi2, SelectKBest, SelectFpr\n",
    "from sklearn.tree import DecisionTreeClassifier, export_graphviz\n",
    "from sklearn.metrics import confusion_matrix, accuracy_score, precision_recall_fscore_support\n",
    "\n",
    "from dsClass.path_helper import *\n",
    "\n"
   ]
  },
  {
   "cell_type": "markdown",
   "id": "86a16639",
   "metadata": {
    "_uuid": "3733016e2c0d33604da5476e7730c7c35beb4c79",
    "papermill": {
     "duration": 0.031557,
     "end_time": "2021-11-19T11:39:00.977576",
     "exception": false,
     "start_time": "2021-11-19T11:39:00.946019",
     "status": "completed"
    },
    "tags": []
   },
   "source": [
    "# Load the time-series data and lookt at the features statistics"
   ]
  },
  {
   "cell_type": "code",
   "execution_count": 3,
   "id": "6a136060",
   "metadata": {
    "_uuid": "b0d4745ea3d7d8ec62583590bb37baeb1038eeab",
    "execution": {
     "iopub.execute_input": "2021-11-19T11:39:01.044839Z",
     "iopub.status.busy": "2021-11-19T11:39:01.044117Z",
     "iopub.status.idle": "2021-11-19T11:39:01.237240Z",
     "shell.execute_reply": "2021-11-19T11:39:01.237758Z",
     "shell.execute_reply.started": "2021-11-19T11:38:00.486798Z"
    },
    "papermill": {
     "duration": 0.228646,
     "end_time": "2021-11-19T11:39:01.237946",
     "exception": false,
     "start_time": "2021-11-19T11:39:01.009300",
     "status": "completed"
    },
    "tags": []
   },
   "outputs": [
    {
     "name": "stdout",
     "output_type": "stream",
     "text": [
      "(204000, 9)\n"
     ]
    },
    {
     "data": {
      "text/html": [
       "<div>\n",
       "<style scoped>\n",
       "    .dataframe tbody tr th:only-of-type {\n",
       "        vertical-align: middle;\n",
       "    }\n",
       "\n",
       "    .dataframe tbody tr th {\n",
       "        vertical-align: top;\n",
       "    }\n",
       "\n",
       "    .dataframe thead th {\n",
       "        text-align: right;\n",
       "    }\n",
       "</style>\n",
       "<table border=\"1\" class=\"dataframe\">\n",
       "  <thead>\n",
       "    <tr style=\"text-align: right;\">\n",
       "      <th></th>\n",
       "      <th>d_id</th>\n",
       "      <th>time</th>\n",
       "      <th>bb_count</th>\n",
       "      <th>r-w_rate</th>\n",
       "      <th>reconsects_count</th>\n",
       "      <th>recovbydrv_count</th>\n",
       "      <th>xfer_rate</th>\n",
       "      <th>bb_diffs</th>\n",
       "      <th>fail</th>\n",
       "    </tr>\n",
       "  </thead>\n",
       "  <tbody>\n",
       "    <tr>\n",
       "      <th>0</th>\n",
       "      <td>1</td>\n",
       "      <td>V1</td>\n",
       "      <td>-5</td>\n",
       "      <td>14</td>\n",
       "      <td>0</td>\n",
       "      <td>9</td>\n",
       "      <td>85</td>\n",
       "      <td>0</td>\n",
       "      <td>True</td>\n",
       "    </tr>\n",
       "    <tr>\n",
       "      <th>1</th>\n",
       "      <td>1</td>\n",
       "      <td>V2</td>\n",
       "      <td>5</td>\n",
       "      <td>15</td>\n",
       "      <td>0</td>\n",
       "      <td>17</td>\n",
       "      <td>76</td>\n",
       "      <td>0</td>\n",
       "      <td>True</td>\n",
       "    </tr>\n",
       "    <tr>\n",
       "      <th>2</th>\n",
       "      <td>1</td>\n",
       "      <td>V3</td>\n",
       "      <td>14</td>\n",
       "      <td>11</td>\n",
       "      <td>0</td>\n",
       "      <td>24</td>\n",
       "      <td>87</td>\n",
       "      <td>0</td>\n",
       "      <td>True</td>\n",
       "    </tr>\n",
       "    <tr>\n",
       "      <th>3</th>\n",
       "      <td>1</td>\n",
       "      <td>V4</td>\n",
       "      <td>22</td>\n",
       "      <td>7</td>\n",
       "      <td>0</td>\n",
       "      <td>31</td>\n",
       "      <td>75</td>\n",
       "      <td>0</td>\n",
       "      <td>True</td>\n",
       "    </tr>\n",
       "    <tr>\n",
       "      <th>4</th>\n",
       "      <td>1</td>\n",
       "      <td>V5</td>\n",
       "      <td>29</td>\n",
       "      <td>11</td>\n",
       "      <td>0</td>\n",
       "      <td>42</td>\n",
       "      <td>81</td>\n",
       "      <td>0</td>\n",
       "      <td>True</td>\n",
       "    </tr>\n",
       "  </tbody>\n",
       "</table>\n",
       "</div>"
      ],
      "text/plain": [
       "   d_id time  bb_count  r-w_rate  reconsects_count  recovbydrv_count  \\\n",
       "0     1   V1        -5        14                 0                 9   \n",
       "1     1   V2         5        15                 0                17   \n",
       "2     1   V3        14        11                 0                24   \n",
       "3     1   V4        22         7                 0                31   \n",
       "4     1   V5        29        11                 0                42   \n",
       "\n",
       "   xfer_rate  bb_diffs  fail  \n",
       "0         85         0  True  \n",
       "1         76         0  True  \n",
       "2         87         0  True  \n",
       "3         75         0  True  \n",
       "4         81         0  True  "
      ]
     },
     "execution_count": 3,
     "metadata": {},
     "output_type": "execute_result"
    }
   ],
   "source": [
    "ts_file_path = get_file_path('ts_data.csv')\n",
    "ts_data = pd.read_csv(ts_file_path)\n",
    "print(ts_data.shape)\n",
    "ts_data.head()"
   ]
  },
  {
   "cell_type": "code",
   "execution_count": 4,
   "id": "835ba366",
   "metadata": {
    "_uuid": "e37c102678d1a4e51d84cba8c15b06d85cd64d02",
    "execution": {
     "iopub.execute_input": "2021-11-19T11:39:01.307396Z",
     "iopub.status.busy": "2021-11-19T11:39:01.306412Z",
     "iopub.status.idle": "2021-11-19T11:39:01.459808Z",
     "shell.execute_reply": "2021-11-19T11:39:01.460330Z",
     "shell.execute_reply.started": "2021-11-19T11:38:00.639854Z"
    },
    "papermill": {
     "duration": 0.189648,
     "end_time": "2021-11-19T11:39:01.460503",
     "exception": false,
     "start_time": "2021-11-19T11:39:01.270855",
     "status": "completed"
    },
    "tags": []
   },
   "outputs": [
    {
     "data": {
      "text/html": [
       "<div>\n",
       "<style scoped>\n",
       "    .dataframe tbody tr th:only-of-type {\n",
       "        vertical-align: middle;\n",
       "    }\n",
       "\n",
       "    .dataframe tbody tr th {\n",
       "        vertical-align: top;\n",
       "    }\n",
       "\n",
       "    .dataframe thead tr th {\n",
       "        text-align: left;\n",
       "    }\n",
       "\n",
       "    .dataframe thead tr:last-of-type th {\n",
       "        text-align: right;\n",
       "    }\n",
       "</style>\n",
       "<table border=\"1\" class=\"dataframe\">\n",
       "  <thead>\n",
       "    <tr>\n",
       "      <th></th>\n",
       "      <th colspan=\"8\" halign=\"left\">d_id</th>\n",
       "      <th colspan=\"2\" halign=\"left\">bb_count</th>\n",
       "      <th>...</th>\n",
       "      <th colspan=\"2\" halign=\"left\">xfer_rate</th>\n",
       "      <th colspan=\"8\" halign=\"left\">bb_diffs</th>\n",
       "    </tr>\n",
       "    <tr>\n",
       "      <th></th>\n",
       "      <th>count</th>\n",
       "      <th>mean</th>\n",
       "      <th>std</th>\n",
       "      <th>min</th>\n",
       "      <th>25%</th>\n",
       "      <th>50%</th>\n",
       "      <th>75%</th>\n",
       "      <th>max</th>\n",
       "      <th>count</th>\n",
       "      <th>mean</th>\n",
       "      <th>...</th>\n",
       "      <th>75%</th>\n",
       "      <th>max</th>\n",
       "      <th>count</th>\n",
       "      <th>mean</th>\n",
       "      <th>std</th>\n",
       "      <th>min</th>\n",
       "      <th>25%</th>\n",
       "      <th>50%</th>\n",
       "      <th>75%</th>\n",
       "      <th>max</th>\n",
       "    </tr>\n",
       "    <tr>\n",
       "      <th>fail</th>\n",
       "      <th></th>\n",
       "      <th></th>\n",
       "      <th></th>\n",
       "      <th></th>\n",
       "      <th></th>\n",
       "      <th></th>\n",
       "      <th></th>\n",
       "      <th></th>\n",
       "      <th></th>\n",
       "      <th></th>\n",
       "      <th></th>\n",
       "      <th></th>\n",
       "      <th></th>\n",
       "      <th></th>\n",
       "      <th></th>\n",
       "      <th></th>\n",
       "      <th></th>\n",
       "      <th></th>\n",
       "      <th></th>\n",
       "      <th></th>\n",
       "      <th></th>\n",
       "    </tr>\n",
       "  </thead>\n",
       "  <tbody>\n",
       "    <tr>\n",
       "      <th>False</th>\n",
       "      <td>200000.0</td>\n",
       "      <td>5200.5</td>\n",
       "      <td>2886.758548</td>\n",
       "      <td>201.0</td>\n",
       "      <td>2700.75</td>\n",
       "      <td>5200.5</td>\n",
       "      <td>7700.25</td>\n",
       "      <td>10200.0</td>\n",
       "      <td>200000.0</td>\n",
       "      <td>97.986965</td>\n",
       "      <td>...</td>\n",
       "      <td>83.0</td>\n",
       "      <td>148.0</td>\n",
       "      <td>200000.0</td>\n",
       "      <td>3.01709</td>\n",
       "      <td>2.466513</td>\n",
       "      <td>0.0</td>\n",
       "      <td>1.0</td>\n",
       "      <td>3.0</td>\n",
       "      <td>4.0</td>\n",
       "      <td>22.0</td>\n",
       "    </tr>\n",
       "    <tr>\n",
       "      <th>True</th>\n",
       "      <td>4000.0</td>\n",
       "      <td>100.5</td>\n",
       "      <td>57.741523</td>\n",
       "      <td>1.0</td>\n",
       "      <td>50.75</td>\n",
       "      <td>100.5</td>\n",
       "      <td>150.25</td>\n",
       "      <td>200.0</td>\n",
       "      <td>4000.0</td>\n",
       "      <td>122.358000</td>\n",
       "      <td>...</td>\n",
       "      <td>104.0</td>\n",
       "      <td>145.0</td>\n",
       "      <td>4000.0</td>\n",
       "      <td>1.04475</td>\n",
       "      <td>1.390227</td>\n",
       "      <td>0.0</td>\n",
       "      <td>0.0</td>\n",
       "      <td>0.0</td>\n",
       "      <td>2.0</td>\n",
       "      <td>9.0</td>\n",
       "    </tr>\n",
       "  </tbody>\n",
       "</table>\n",
       "<p>2 rows × 56 columns</p>\n",
       "</div>"
      ],
      "text/plain": [
       "           d_id                                                        \\\n",
       "          count    mean          std    min      25%     50%      75%   \n",
       "fail                                                                    \n",
       "False  200000.0  5200.5  2886.758548  201.0  2700.75  5200.5  7700.25   \n",
       "True     4000.0   100.5    57.741523    1.0    50.75   100.5   150.25   \n",
       "\n",
       "                bb_count              ... xfer_rate         bb_diffs           \\\n",
       "           max     count        mean  ...       75%    max     count     mean   \n",
       "fail                                  ...                                       \n",
       "False  10200.0  200000.0   97.986965  ...      83.0  148.0  200000.0  3.01709   \n",
       "True     200.0    4000.0  122.358000  ...     104.0  145.0    4000.0  1.04475   \n",
       "\n",
       "                                           \n",
       "            std  min  25%  50%  75%   max  \n",
       "fail                                       \n",
       "False  2.466513  0.0  1.0  3.0  4.0  22.0  \n",
       "True   1.390227  0.0  0.0  0.0  2.0   9.0  \n",
       "\n",
       "[2 rows x 56 columns]"
      ]
     },
     "execution_count": 4,
     "metadata": {},
     "output_type": "execute_result"
    }
   ],
   "source": [
    "ts_data.groupby('fail').describe()"
   ]
  },
  {
   "cell_type": "markdown",
   "id": "43b7b637",
   "metadata": {
    "_uuid": "02ea827eedea4afa3baf0a3f4fda52a5a9401537",
    "papermill": {
     "duration": 0.032825,
     "end_time": "2021-11-19T11:39:01.526244",
     "exception": false,
     "start_time": "2021-11-19T11:39:01.493419",
     "status": "completed"
    },
    "tags": []
   },
   "source": [
    "# Plot the time series data"
   ]
  },
  {
   "cell_type": "code",
   "execution_count": 5,
   "id": "cb7014df",
   "metadata": {
    "_uuid": "6db76f6678e9c8486f03ee1b3fe8bccff7701a94",
    "execution": {
     "iopub.execute_input": "2021-11-19T11:39:01.596778Z",
     "iopub.status.busy": "2021-11-19T11:39:01.595775Z",
     "iopub.status.idle": "2021-11-19T11:39:02.342640Z",
     "shell.execute_reply": "2021-11-19T11:39:02.343186Z",
     "shell.execute_reply.started": "2021-11-19T11:38:00.786902Z"
    },
    "papermill": {
     "duration": 0.783963,
     "end_time": "2021-11-19T11:39:02.343385",
     "exception": false,
     "start_time": "2021-11-19T11:39:01.559422",
     "status": "completed"
    },
    "tags": []
   },
   "outputs": [
    {
     "data": {
      "text/plain": [
       "<matplotlib.legend.Legend at 0x7fb1080c5ad0>"
      ]
     },
     "execution_count": 5,
     "metadata": {},
     "output_type": "execute_result"
    },
    {
     "data": {
      "image/png": "[encoded data removed]",
      "text/plain": [
       "<Figure size 720x864 with 2 Axes>"
      ]
     },
     "metadata": {
      "needs_background": "light"
     },
     "output_type": "display_data"
    }
   ],
   "source": [
    "original_features = ['bb_count', 'r-w_rate', 'reconsects_count',\n",
    "       'recovbydrv_count', 'xfer_rate', 'bb_diffs']\n",
    "\n",
    "fig, axes = plt.subplots(nrows=1, ncols=2)\n",
    "\n",
    "ts_data.loc[ts_data['d_id']==1,original_features].plot(figsize=(10,12), title='drive '+str(1)+' fail', ax=axes[0])\n",
    "\n",
    "num_drives = ts_data['d_id'].unique().shape[0]\n",
    "#num_drives\n",
    "\n",
    "ts_data.loc[ts_data['d_id']==num_drives,original_features].plot(figsize=(10,12), title='drive '+str(num_drives)+' non-fail', ax=axes[1])\n",
    "plt.legend()"
   ]
  },
  {
   "cell_type": "markdown",
   "id": "a4e41447",
   "metadata": {
    "_uuid": "d6ac44aff601c03c10bc81b052d4b933ae0b01ea",
    "papermill": {
     "duration": 0.036067,
     "end_time": "2021-11-19T11:39:02.416336",
     "exception": false,
     "start_time": "2021-11-19T11:39:02.380269",
     "status": "completed"
    },
    "tags": []
   },
   "source": [
    "# Engineer the time-series features\n",
    "\n",
    "For each Create the aggregated features (mean, median, variance, minimum and naximum):\n",
    "* for each sn\n",
    "* for each feature\n",
    "* for each aggregation type\n",
    "        aggregate the 20 daily samples into one aggregated sample  "
   ]
  },
  {
   "cell_type": "code",
   "execution_count": 6,
   "id": "0d0e2bfa",
   "metadata": {
    "_uuid": "99bc522b76115e59adbf9b68681c15794d8b9b1b",
    "execution": {
     "iopub.execute_input": "2021-11-19T11:39:02.492194Z",
     "iopub.status.busy": "2021-11-19T11:39:02.491486Z",
     "iopub.status.idle": "2021-11-19T11:39:02.635603Z",
     "shell.execute_reply": "2021-11-19T11:39:02.636141Z",
     "shell.execute_reply.started": "2021-11-19T11:38:01.299843Z"
    },
    "papermill": {
     "duration": 0.184027,
     "end_time": "2021-11-19T11:39:02.636323",
     "exception": false,
     "start_time": "2021-11-19T11:39:02.452296",
     "status": "completed"
    },
    "tags": []
   },
   "outputs": [
    {
     "name": "stdout",
     "output_type": "stream",
     "text": [
      "Index(['bb_count_mean', 'r-w_rate_mean', 'reconsects_count_mean',\n",
      "       'recovbydrv_count_mean', 'xfer_rate_mean', 'bb_diffs_mean',\n",
      "       'bb_count_median', 'r-w_rate_median', 'reconsects_count_median',\n",
      "       'recovbydrv_count_median', 'xfer_rate_median', 'bb_diffs_median',\n",
      "       'bb_count_var', 'r-w_rate_var', 'reconsects_count_var',\n",
      "       'recovbydrv_count_var', 'xfer_rate_var', 'bb_diffs_var', 'bb_count_min',\n",
      "       'r-w_rate_min', 'reconsects_count_min', 'recovbydrv_count_min',\n",
      "       'xfer_rate_min', 'bb_diffs_min', 'bb_count_max', 'r-w_rate_max',\n",
      "       'reconsects_count_max', 'recovbydrv_count_max', 'xfer_rate_max',\n",
      "       'bb_diffs_max'],\n",
      "      dtype='object')\n"
     ]
    },
    {
     "data": {
      "text/html": [
       "<div>\n",
       "<style scoped>\n",
       "    .dataframe tbody tr th:only-of-type {\n",
       "        vertical-align: middle;\n",
       "    }\n",
       "\n",
       "    .dataframe tbody tr th {\n",
       "        vertical-align: top;\n",
       "    }\n",
       "\n",
       "    .dataframe thead th {\n",
       "        text-align: right;\n",
       "    }\n",
       "</style>\n",
       "<table border=\"1\" class=\"dataframe\">\n",
       "  <thead>\n",
       "    <tr style=\"text-align: right;\">\n",
       "      <th></th>\n",
       "      <th></th>\n",
       "      <th>bb_count_mean</th>\n",
       "      <th>r-w_rate_mean</th>\n",
       "      <th>reconsects_count_mean</th>\n",
       "      <th>recovbydrv_count_mean</th>\n",
       "      <th>xfer_rate_mean</th>\n",
       "      <th>bb_diffs_mean</th>\n",
       "      <th>bb_count_median</th>\n",
       "      <th>r-w_rate_median</th>\n",
       "      <th>reconsects_count_median</th>\n",
       "      <th>recovbydrv_count_median</th>\n",
       "      <th>...</th>\n",
       "      <th>reconsects_count_min</th>\n",
       "      <th>recovbydrv_count_min</th>\n",
       "      <th>xfer_rate_min</th>\n",
       "      <th>bb_diffs_min</th>\n",
       "      <th>bb_count_max</th>\n",
       "      <th>r-w_rate_max</th>\n",
       "      <th>reconsects_count_max</th>\n",
       "      <th>recovbydrv_count_max</th>\n",
       "      <th>xfer_rate_max</th>\n",
       "      <th>bb_diffs_max</th>\n",
       "    </tr>\n",
       "    <tr>\n",
       "      <th>d_id</th>\n",
       "      <th>fail</th>\n",
       "      <th></th>\n",
       "      <th></th>\n",
       "      <th></th>\n",
       "      <th></th>\n",
       "      <th></th>\n",
       "      <th></th>\n",
       "      <th></th>\n",
       "      <th></th>\n",
       "      <th></th>\n",
       "      <th></th>\n",
       "      <th></th>\n",
       "      <th></th>\n",
       "      <th></th>\n",
       "      <th></th>\n",
       "      <th></th>\n",
       "      <th></th>\n",
       "      <th></th>\n",
       "      <th></th>\n",
       "      <th></th>\n",
       "      <th></th>\n",
       "      <th></th>\n",
       "    </tr>\n",
       "  </thead>\n",
       "  <tbody>\n",
       "    <tr>\n",
       "      <th>1</th>\n",
       "      <th>True</th>\n",
       "      <td>75.05</td>\n",
       "      <td>11.30</td>\n",
       "      <td>0.00</td>\n",
       "      <td>96.75</td>\n",
       "      <td>82.60</td>\n",
       "      <td>0.00</td>\n",
       "      <td>75.5</td>\n",
       "      <td>11.0</td>\n",
       "      <td>0.0</td>\n",
       "      <td>91.5</td>\n",
       "      <td>...</td>\n",
       "      <td>0</td>\n",
       "      <td>9</td>\n",
       "      <td>69</td>\n",
       "      <td>0</td>\n",
       "      <td>148</td>\n",
       "      <td>18</td>\n",
       "      <td>0</td>\n",
       "      <td>199</td>\n",
       "      <td>104</td>\n",
       "      <td>0</td>\n",
       "    </tr>\n",
       "    <tr>\n",
       "      <th>2</th>\n",
       "      <th>True</th>\n",
       "      <td>102.35</td>\n",
       "      <td>18.80</td>\n",
       "      <td>3.00</td>\n",
       "      <td>121.70</td>\n",
       "      <td>82.55</td>\n",
       "      <td>0.00</td>\n",
       "      <td>97.0</td>\n",
       "      <td>18.0</td>\n",
       "      <td>3.0</td>\n",
       "      <td>124.0</td>\n",
       "      <td>...</td>\n",
       "      <td>3</td>\n",
       "      <td>35</td>\n",
       "      <td>69</td>\n",
       "      <td>0</td>\n",
       "      <td>173</td>\n",
       "      <td>27</td>\n",
       "      <td>3</td>\n",
       "      <td>209</td>\n",
       "      <td>100</td>\n",
       "      <td>0</td>\n",
       "    </tr>\n",
       "    <tr>\n",
       "      <th>3</th>\n",
       "      <th>True</th>\n",
       "      <td>153.30</td>\n",
       "      <td>20.00</td>\n",
       "      <td>5.00</td>\n",
       "      <td>166.00</td>\n",
       "      <td>93.90</td>\n",
       "      <td>0.00</td>\n",
       "      <td>152.0</td>\n",
       "      <td>21.5</td>\n",
       "      <td>5.0</td>\n",
       "      <td>170.0</td>\n",
       "      <td>...</td>\n",
       "      <td>5</td>\n",
       "      <td>51</td>\n",
       "      <td>77</td>\n",
       "      <td>0</td>\n",
       "      <td>249</td>\n",
       "      <td>28</td>\n",
       "      <td>5</td>\n",
       "      <td>284</td>\n",
       "      <td>104</td>\n",
       "      <td>0</td>\n",
       "    </tr>\n",
       "    <tr>\n",
       "      <th>4</th>\n",
       "      <th>True</th>\n",
       "      <td>96.05</td>\n",
       "      <td>20.00</td>\n",
       "      <td>-2.00</td>\n",
       "      <td>154.90</td>\n",
       "      <td>112.85</td>\n",
       "      <td>0.00</td>\n",
       "      <td>99.0</td>\n",
       "      <td>19.5</td>\n",
       "      <td>-2.0</td>\n",
       "      <td>151.5</td>\n",
       "      <td>...</td>\n",
       "      <td>-2</td>\n",
       "      <td>3</td>\n",
       "      <td>94</td>\n",
       "      <td>0</td>\n",
       "      <td>202</td>\n",
       "      <td>25</td>\n",
       "      <td>-2</td>\n",
       "      <td>322</td>\n",
       "      <td>134</td>\n",
       "      <td>0</td>\n",
       "    </tr>\n",
       "    <tr>\n",
       "      <th>5</th>\n",
       "      <th>True</th>\n",
       "      <td>140.45</td>\n",
       "      <td>9.55</td>\n",
       "      <td>29.05</td>\n",
       "      <td>149.15</td>\n",
       "      <td>94.75</td>\n",
       "      <td>2.50</td>\n",
       "      <td>146.0</td>\n",
       "      <td>9.5</td>\n",
       "      <td>31.5</td>\n",
       "      <td>145.0</td>\n",
       "      <td>...</td>\n",
       "      <td>6</td>\n",
       "      <td>42</td>\n",
       "      <td>71</td>\n",
       "      <td>0</td>\n",
       "      <td>230</td>\n",
       "      <td>20</td>\n",
       "      <td>53</td>\n",
       "      <td>265</td>\n",
       "      <td>117</td>\n",
       "      <td>7</td>\n",
       "    </tr>\n",
       "    <tr>\n",
       "      <th>...</th>\n",
       "      <th>...</th>\n",
       "      <td>...</td>\n",
       "      <td>...</td>\n",
       "      <td>...</td>\n",
       "      <td>...</td>\n",
       "      <td>...</td>\n",
       "      <td>...</td>\n",
       "      <td>...</td>\n",
       "      <td>...</td>\n",
       "      <td>...</td>\n",
       "      <td>...</td>\n",
       "      <td>...</td>\n",
       "      <td>...</td>\n",
       "      <td>...</td>\n",
       "      <td>...</td>\n",
       "      <td>...</td>\n",
       "      <td>...</td>\n",
       "      <td>...</td>\n",
       "      <td>...</td>\n",
       "      <td>...</td>\n",
       "      <td>...</td>\n",
       "      <td>...</td>\n",
       "    </tr>\n",
       "    <tr>\n",
       "      <th>10196</th>\n",
       "      <th>False</th>\n",
       "      <td>110.00</td>\n",
       "      <td>8.55</td>\n",
       "      <td>12.15</td>\n",
       "      <td>146.40</td>\n",
       "      <td>87.10</td>\n",
       "      <td>0.65</td>\n",
       "      <td>115.5</td>\n",
       "      <td>8.0</td>\n",
       "      <td>13.5</td>\n",
       "      <td>146.5</td>\n",
       "      <td>...</td>\n",
       "      <td>6</td>\n",
       "      <td>20</td>\n",
       "      <td>69</td>\n",
       "      <td>0</td>\n",
       "      <td>196</td>\n",
       "      <td>18</td>\n",
       "      <td>18</td>\n",
       "      <td>279</td>\n",
       "      <td>103</td>\n",
       "      <td>2</td>\n",
       "    </tr>\n",
       "    <tr>\n",
       "      <th>10197</th>\n",
       "      <th>False</th>\n",
       "      <td>123.40</td>\n",
       "      <td>15.20</td>\n",
       "      <td>53.55</td>\n",
       "      <td>58.55</td>\n",
       "      <td>82.50</td>\n",
       "      <td>4.80</td>\n",
       "      <td>127.0</td>\n",
       "      <td>15.5</td>\n",
       "      <td>53.0</td>\n",
       "      <td>63.5</td>\n",
       "      <td>...</td>\n",
       "      <td>10</td>\n",
       "      <td>28</td>\n",
       "      <td>70</td>\n",
       "      <td>1</td>\n",
       "      <td>214</td>\n",
       "      <td>27</td>\n",
       "      <td>103</td>\n",
       "      <td>82</td>\n",
       "      <td>98</td>\n",
       "      <td>10</td>\n",
       "    </tr>\n",
       "    <tr>\n",
       "      <th>10198</th>\n",
       "      <th>False</th>\n",
       "      <td>52.95</td>\n",
       "      <td>11.15</td>\n",
       "      <td>31.70</td>\n",
       "      <td>218.70</td>\n",
       "      <td>70.65</td>\n",
       "      <td>2.40</td>\n",
       "      <td>56.5</td>\n",
       "      <td>10.0</td>\n",
       "      <td>32.0</td>\n",
       "      <td>226.0</td>\n",
       "      <td>...</td>\n",
       "      <td>8</td>\n",
       "      <td>41</td>\n",
       "      <td>55</td>\n",
       "      <td>0</td>\n",
       "      <td>76</td>\n",
       "      <td>17</td>\n",
       "      <td>55</td>\n",
       "      <td>380</td>\n",
       "      <td>89</td>\n",
       "      <td>7</td>\n",
       "    </tr>\n",
       "    <tr>\n",
       "      <th>10199</th>\n",
       "      <th>False</th>\n",
       "      <td>89.50</td>\n",
       "      <td>6.90</td>\n",
       "      <td>50.25</td>\n",
       "      <td>151.80</td>\n",
       "      <td>62.40</td>\n",
       "      <td>4.10</td>\n",
       "      <td>88.0</td>\n",
       "      <td>7.5</td>\n",
       "      <td>50.0</td>\n",
       "      <td>153.5</td>\n",
       "      <td>...</td>\n",
       "      <td>11</td>\n",
       "      <td>38</td>\n",
       "      <td>49</td>\n",
       "      <td>1</td>\n",
       "      <td>155</td>\n",
       "      <td>12</td>\n",
       "      <td>90</td>\n",
       "      <td>267</td>\n",
       "      <td>76</td>\n",
       "      <td>8</td>\n",
       "    </tr>\n",
       "    <tr>\n",
       "      <th>10200</th>\n",
       "      <th>False</th>\n",
       "      <td>137.60</td>\n",
       "      <td>9.75</td>\n",
       "      <td>23.10</td>\n",
       "      <td>140.80</td>\n",
       "      <td>84.95</td>\n",
       "      <td>0.90</td>\n",
       "      <td>139.0</td>\n",
       "      <td>10.0</td>\n",
       "      <td>23.5</td>\n",
       "      <td>139.5</td>\n",
       "      <td>...</td>\n",
       "      <td>14</td>\n",
       "      <td>72</td>\n",
       "      <td>73</td>\n",
       "      <td>0</td>\n",
       "      <td>195</td>\n",
       "      <td>16</td>\n",
       "      <td>32</td>\n",
       "      <td>209</td>\n",
       "      <td>106</td>\n",
       "      <td>3</td>\n",
       "    </tr>\n",
       "  </tbody>\n",
       "</table>\n",
       "<p>10200 rows × 30 columns</p>\n",
       "</div>"
      ],
      "text/plain": [
       "             bb_count_mean  r-w_rate_mean  reconsects_count_mean  \\\n",
       "d_id  fail                                                         \n",
       "1     True           75.05          11.30                   0.00   \n",
       "2     True          102.35          18.80                   3.00   \n",
       "3     True          153.30          20.00                   5.00   \n",
       "4     True           96.05          20.00                  -2.00   \n",
       "5     True          140.45           9.55                  29.05   \n",
       "...                    ...            ...                    ...   \n",
       "10196 False         110.00           8.55                  12.15   \n",
       "10197 False         123.40          15.20                  53.55   \n",
       "10198 False          52.95          11.15                  31.70   \n",
       "10199 False          89.50           6.90                  50.25   \n",
       "10200 False         137.60           9.75                  23.10   \n",
       "\n",
       "             recovbydrv_count_mean  xfer_rate_mean  bb_diffs_mean  \\\n",
       "d_id  fail                                                          \n",
       "1     True                   96.75           82.60           0.00   \n",
       "2     True                  121.70           82.55           0.00   \n",
       "3     True                  166.00           93.90           0.00   \n",
       "4     True                  154.90          112.85           0.00   \n",
       "5     True                  149.15           94.75           2.50   \n",
       "...                            ...             ...            ...   \n",
       "10196 False                 146.40           87.10           0.65   \n",
       "10197 False                  58.55           82.50           4.80   \n",
       "10198 False                 218.70           70.65           2.40   \n",
       "10199 False                 151.80           62.40           4.10   \n",
       "10200 False                 140.80           84.95           0.90   \n",
       "\n",
       "             bb_count_median  r-w_rate_median  reconsects_count_median  \\\n",
       "d_id  fail                                                               \n",
       "1     True              75.5             11.0                      0.0   \n",
       "2     True              97.0             18.0                      3.0   \n",
       "3     True             152.0             21.5                      5.0   \n",
       "4     True              99.0             19.5                     -2.0   \n",
       "5     True             146.0              9.5                     31.5   \n",
       "...                      ...              ...                      ...   \n",
       "10196 False            115.5              8.0                     13.5   \n",
       "10197 False            127.0             15.5                     53.0   \n",
       "10198 False             56.5             10.0                     32.0   \n",
       "10199 False             88.0              7.5                     50.0   \n",
       "10200 False            139.0             10.0                     23.5   \n",
       "\n",
       "             recovbydrv_count_median  ...  reconsects_count_min  \\\n",
       "d_id  fail                            ...                         \n",
       "1     True                      91.5  ...                     0   \n",
       "2     True                     124.0  ...                     3   \n",
       "3     True                     170.0  ...                     5   \n",
       "4     True                     151.5  ...                    -2   \n",
       "5     True                     145.0  ...                     6   \n",
       "...                              ...  ...                   ...   \n",
       "10196 False                    146.5  ...                     6   \n",
       "10197 False                     63.5  ...                    10   \n",
       "10198 False                    226.0  ...                     8   \n",
       "10199 False                    153.5  ...                    11   \n",
       "10200 False                    139.5  ...                    14   \n",
       "\n",
       "             recovbydrv_count_min  xfer_rate_min  bb_diffs_min  bb_count_max  \\\n",
       "d_id  fail                                                                     \n",
       "1     True                      9             69             0           148   \n",
       "2     True                     35             69             0           173   \n",
       "3     True                     51             77             0           249   \n",
       "4     True                      3             94             0           202   \n",
       "5     True                     42             71             0           230   \n",
       "...                           ...            ...           ...           ...   \n",
       "10196 False                    20             69             0           196   \n",
       "10197 False                    28             70             1           214   \n",
       "10198 False                    41             55             0            76   \n",
       "10199 False                    38             49             1           155   \n",
       "10200 False                    72             73             0           195   \n",
       "\n",
       "             r-w_rate_max  reconsects_count_max  recovbydrv_count_max  \\\n",
       "d_id  fail                                                              \n",
       "1     True             18                     0                   199   \n",
       "2     True             27                     3                   209   \n",
       "3     True             28                     5                   284   \n",
       "4     True             25                    -2                   322   \n",
       "5     True             20                    53                   265   \n",
       "...                   ...                   ...                   ...   \n",
       "10196 False            18                    18                   279   \n",
       "10197 False            27                   103                    82   \n",
       "10198 False            17                    55                   380   \n",
       "10199 False            12                    90                   267   \n",
       "10200 False            16                    32                   209   \n",
       "\n",
       "             xfer_rate_max  bb_diffs_max  \n",
       "d_id  fail                                \n",
       "1     True             104             0  \n",
       "2     True             100             0  \n",
       "3     True             104             0  \n",
       "4     True             134             0  \n",
       "5     True             117             7  \n",
       "...                    ...           ...  \n",
       "10196 False            103             2  \n",
       "10197 False             98            10  \n",
       "10198 False             89             7  \n",
       "10199 False             76             8  \n",
       "10200 False            106             3  \n",
       "\n",
       "[10200 rows x 30 columns]"
      ]
     },
     "execution_count": 6,
     "metadata": {},
     "output_type": "execute_result"
    }
   ],
   "source": [
    "#Q1\n",
    "# We created groupby object and joined the outcomes of every function(mean, var...) on it and got big dataframe named q1\n",
    "data_gb = ts_data.drop(['time'], axis=1).groupby(['d_id','fail'])\n",
    "\n",
    "q1 = data_gb.mean()\n",
    "q1 = q1.join(data_gb.median(), lsuffix='_mean', rsuffix = \"_median\")\n",
    "q1 = q1.join(data_gb.var(), rsuffix = \"_var\")\n",
    "q1 = q1.join(data_gb.min(), rsuffix = \"_min\")\n",
    "q1 = q1.join(data_gb.max(),lsuffix='_var', rsuffix = \"_max\")\n",
    "# q1 = q1.drop(['fail_median', 'fail_var'], axis=1)\n",
    "print(q1.columns)\n",
    "q1"
   ]
  },
  {
   "cell_type": "markdown",
   "id": "d019cd0a",
   "metadata": {
    "_uuid": "c3b90e4f0ad47da20886ab3dcd385d8e509ab793",
    "papermill": {
     "duration": 0.03703,
     "end_time": "2021-11-19T11:39:02.710874",
     "exception": false,
     "start_time": "2021-11-19T11:39:02.673844",
     "status": "completed"
    },
    "tags": []
   },
   "source": [
    "# Load the cofiguration data"
   ]
  },
  {
   "cell_type": "code",
   "execution_count": 7,
   "id": "7f029510",
   "metadata": {
    "_uuid": "795daae63f172d2a2b963bbeb0c253be1bed264c",
    "execution": {
     "iopub.execute_input": "2021-11-19T11:39:02.791829Z",
     "iopub.status.busy": "2021-11-19T11:39:02.791106Z",
     "iopub.status.idle": "2021-11-19T11:39:02.807921Z",
     "shell.execute_reply": "2021-11-19T11:39:02.808415Z",
     "shell.execute_reply.started": "2021-11-19T11:38:01.437127Z"
    },
    "papermill": {
     "duration": 0.060266,
     "end_time": "2021-11-19T11:39:02.808587",
     "exception": false,
     "start_time": "2021-11-19T11:39:02.748321",
     "status": "completed"
    },
    "tags": []
   },
   "outputs": [
    {
     "data": {
      "text/html": [
       "<div>\n",
       "<style scoped>\n",
       "    .dataframe tbody tr th:only-of-type {\n",
       "        vertical-align: middle;\n",
       "    }\n",
       "\n",
       "    .dataframe tbody tr th {\n",
       "        vertical-align: top;\n",
       "    }\n",
       "\n",
       "    .dataframe thead th {\n",
       "        text-align: right;\n",
       "    }\n",
       "</style>\n",
       "<table border=\"1\" class=\"dataframe\">\n",
       "  <thead>\n",
       "    <tr style=\"text-align: right;\">\n",
       "      <th></th>\n",
       "      <th>d_id</th>\n",
       "      <th>age</th>\n",
       "      <th>capacity</th>\n",
       "      <th>model</th>\n",
       "      <th>fail</th>\n",
       "    </tr>\n",
       "  </thead>\n",
       "  <tbody>\n",
       "    <tr>\n",
       "      <th>0</th>\n",
       "      <td>1</td>\n",
       "      <td>15</td>\n",
       "      <td>1TB</td>\n",
       "      <td>Hitachi</td>\n",
       "      <td>True</td>\n",
       "    </tr>\n",
       "    <tr>\n",
       "      <th>1</th>\n",
       "      <td>2</td>\n",
       "      <td>23</td>\n",
       "      <td>1TB</td>\n",
       "      <td>Fujitsu</td>\n",
       "      <td>True</td>\n",
       "    </tr>\n",
       "    <tr>\n",
       "      <th>2</th>\n",
       "      <td>3</td>\n",
       "      <td>23</td>\n",
       "      <td>1TB</td>\n",
       "      <td>Seagate</td>\n",
       "      <td>True</td>\n",
       "    </tr>\n",
       "    <tr>\n",
       "      <th>3</th>\n",
       "      <td>4</td>\n",
       "      <td>14</td>\n",
       "      <td>1TB</td>\n",
       "      <td>Hitachi</td>\n",
       "      <td>True</td>\n",
       "    </tr>\n",
       "    <tr>\n",
       "      <th>4</th>\n",
       "      <td>5</td>\n",
       "      <td>18</td>\n",
       "      <td>600GB</td>\n",
       "      <td>Hitachi</td>\n",
       "      <td>True</td>\n",
       "    </tr>\n",
       "  </tbody>\n",
       "</table>\n",
       "</div>"
      ],
      "text/plain": [
       "   d_id  age capacity    model  fail\n",
       "0     1   15      1TB  Hitachi  True\n",
       "1     2   23      1TB  Fujitsu  True\n",
       "2     3   23      1TB  Seagate  True\n",
       "3     4   14      1TB  Hitachi  True\n",
       "4     5   18    600GB  Hitachi  True"
      ]
     },
     "execution_count": 7,
     "metadata": {},
     "output_type": "execute_result"
    }
   ],
   "source": [
    "conf_file_path = get_file_path('conf_data.csv')\n",
    "conf_data = pd.read_csv(conf_file_path)\n",
    "conf_data.head()"
   ]
  },
  {
   "cell_type": "markdown",
   "id": "83454a2b",
   "metadata": {
    "_uuid": "7805af276468a338e4d8140156f52e0395ef0684",
    "papermill": {
     "duration": 0.037749,
     "end_time": "2021-11-19T11:39:02.884485",
     "exception": false,
     "start_time": "2021-11-19T11:39:02.846736",
     "status": "completed"
    },
    "tags": []
   },
   "source": [
    "# Look at the features\\labels distribution"
   ]
  },
  {
   "cell_type": "code",
   "execution_count": 8,
   "id": "94ad4582",
   "metadata": {
    "_uuid": "cca715a8f29c537583ceaec866c88840b7f1ea5a",
    "execution": {
     "iopub.execute_input": "2021-11-19T11:39:02.995446Z",
     "iopub.status.busy": "2021-11-19T11:39:02.986282Z",
     "iopub.status.idle": "2021-11-19T11:39:03.220058Z",
     "shell.execute_reply": "2021-11-19T11:39:03.220679Z",
     "shell.execute_reply.started": "2021-11-19T11:38:01.457423Z"
    },
    "papermill": {
     "duration": 0.297424,
     "end_time": "2021-11-19T11:39:03.220860",
     "exception": false,
     "start_time": "2021-11-19T11:39:02.923436",
     "status": "completed"
    },
    "tags": []
   },
   "outputs": [
    {
     "data": {
      "text/plain": [
       "<AxesSubplot:title={'center':'age'}, xlabel='[fail]'>"
      ]
     },
     "execution_count": 8,
     "metadata": {},
     "output_type": "execute_result"
    },
    {
     "data": {
      "text/plain": [
       "<Figure size 432x288 with 0 Axes>"
      ]
     },
     "metadata": {},
     "output_type": "display_data"
    },
    {
     "data": {
      "image/png": "[encoded data removed]",
      "text/plain": [
       "<Figure size 720x864 with 1 Axes>"
      ]
     },
     "metadata": {
      "needs_background": "light"
     },
     "output_type": "display_data"
    }
   ],
   "source": [
    "plt.figure()\n",
    "conf_data[['age', 'fail']].boxplot(by='fail', figsize=(10,12), sym='')"
   ]
  },
  {
   "cell_type": "code",
   "execution_count": 9,
   "id": "ac4dc120",
   "metadata": {
    "_uuid": "802b2e65d849b67a159e22243c5cee84b498def9",
    "execution": {
     "iopub.execute_input": "2021-11-19T11:39:03.305402Z",
     "iopub.status.busy": "2021-11-19T11:39:03.304694Z",
     "iopub.status.idle": "2021-11-19T11:39:03.569921Z",
     "shell.execute_reply": "2021-11-19T11:39:03.570516Z",
     "shell.execute_reply.started": "2021-11-19T11:38:01.702352Z"
    },
    "papermill": {
     "duration": 0.309982,
     "end_time": "2021-11-19T11:39:03.570711",
     "exception": false,
     "start_time": "2021-11-19T11:39:03.260729",
     "status": "completed"
    },
    "tags": []
   },
   "outputs": [
    {
     "data": {
      "text/plain": [
       "<AxesSubplot:xlabel='model'>"
      ]
     },
     "execution_count": 9,
     "metadata": {},
     "output_type": "execute_result"
    },
    {
     "data": {
      "image/png": "[encoded data removed]",
      "text/plain": [
       "<Figure size 432x288 with 1 Axes>"
      ]
     },
     "metadata": {
      "needs_background": "light"
     },
     "output_type": "display_data"
    }
   ],
   "source": [
    "g = conf_data.groupby([\"model\", \"fail\"])['d_id'].count().unstack('fail')\n",
    "g.plot(kind=\"bar\", stacked=True, grid=True, alpha=0.75, rot=45)"
   ]
  },
  {
   "cell_type": "markdown",
   "id": "45a7e36b",
   "metadata": {
    "_uuid": "bf96f72001126666e302413824fbe8bfdf2a85e4",
    "papermill": {
     "duration": 0.040375,
     "end_time": "2021-11-19T11:39:03.652169",
     "exception": false,
     "start_time": "2021-11-19T11:39:03.611794",
     "status": "completed"
    },
    "tags": []
   },
   "source": [
    "# Handle categorical data "
   ]
  },
  {
   "cell_type": "markdown",
   "id": "caf1b1bd",
   "metadata": {
    "_uuid": "eaa66b3f716b8677d975c610509547016dc9fa59",
    "papermill": {
     "duration": 0.041061,
     "end_time": "2021-11-19T11:39:03.734023",
     "exception": false,
     "start_time": "2021-11-19T11:39:03.692962",
     "status": "completed"
    },
    "tags": []
   },
   "source": [
    "For the decision tree algorithm, map the categorical features to numeric with:\n",
    "* \"Change_capacity\" function for \"capacity\" column\n",
    "* \"pd.get_dummies\" function for \"model\" column\n"
   ]
  },
  {
   "cell_type": "code",
   "execution_count": 10,
   "id": "8efdb4a3",
   "metadata": {
    "_uuid": "16182b67a2ddce9b865ed141a17f3cec01e6995a",
    "execution": {
     "iopub.execute_input": "2021-11-19T11:39:03.823305Z",
     "iopub.status.busy": "2021-11-19T11:39:03.822534Z",
     "iopub.status.idle": "2021-11-19T11:39:03.849873Z",
     "shell.execute_reply": "2021-11-19T11:39:03.850354Z",
     "shell.execute_reply.started": "2021-11-19T11:38:01.949978Z"
    },
    "papermill": {
     "duration": 0.075718,
     "end_time": "2021-11-19T11:39:03.850533",
     "exception": false,
     "start_time": "2021-11-19T11:39:03.774815",
     "status": "completed"
    },
    "tags": []
   },
   "outputs": [
    {
     "data": {
      "text/html": [
       "<div>\n",
       "<style scoped>\n",
       "    .dataframe tbody tr th:only-of-type {\n",
       "        vertical-align: middle;\n",
       "    }\n",
       "\n",
       "    .dataframe tbody tr th {\n",
       "        vertical-align: top;\n",
       "    }\n",
       "\n",
       "    .dataframe thead th {\n",
       "        text-align: right;\n",
       "    }\n",
       "</style>\n",
       "<table border=\"1\" class=\"dataframe\">\n",
       "  <thead>\n",
       "    <tr style=\"text-align: right;\">\n",
       "      <th></th>\n",
       "      <th>d_id</th>\n",
       "      <th>age</th>\n",
       "      <th>capacity</th>\n",
       "      <th>fail</th>\n",
       "      <th>model_Fujitsu</th>\n",
       "      <th>model_Hitachi</th>\n",
       "      <th>model_Seagate</th>\n",
       "      <th>model_Toshiba</th>\n",
       "    </tr>\n",
       "  </thead>\n",
       "  <tbody>\n",
       "    <tr>\n",
       "      <th>0</th>\n",
       "      <td>1</td>\n",
       "      <td>15</td>\n",
       "      <td>1000</td>\n",
       "      <td>True</td>\n",
       "      <td>0</td>\n",
       "      <td>1</td>\n",
       "      <td>0</td>\n",
       "      <td>0</td>\n",
       "    </tr>\n",
       "    <tr>\n",
       "      <th>1</th>\n",
       "      <td>2</td>\n",
       "      <td>23</td>\n",
       "      <td>1000</td>\n",
       "      <td>True</td>\n",
       "      <td>1</td>\n",
       "      <td>0</td>\n",
       "      <td>0</td>\n",
       "      <td>0</td>\n",
       "    </tr>\n",
       "    <tr>\n",
       "      <th>2</th>\n",
       "      <td>3</td>\n",
       "      <td>23</td>\n",
       "      <td>1000</td>\n",
       "      <td>True</td>\n",
       "      <td>0</td>\n",
       "      <td>0</td>\n",
       "      <td>1</td>\n",
       "      <td>0</td>\n",
       "    </tr>\n",
       "    <tr>\n",
       "      <th>3</th>\n",
       "      <td>4</td>\n",
       "      <td>14</td>\n",
       "      <td>1000</td>\n",
       "      <td>True</td>\n",
       "      <td>0</td>\n",
       "      <td>1</td>\n",
       "      <td>0</td>\n",
       "      <td>0</td>\n",
       "    </tr>\n",
       "    <tr>\n",
       "      <th>4</th>\n",
       "      <td>5</td>\n",
       "      <td>18</td>\n",
       "      <td>600</td>\n",
       "      <td>True</td>\n",
       "      <td>0</td>\n",
       "      <td>1</td>\n",
       "      <td>0</td>\n",
       "      <td>0</td>\n",
       "    </tr>\n",
       "    <tr>\n",
       "      <th>...</th>\n",
       "      <td>...</td>\n",
       "      <td>...</td>\n",
       "      <td>...</td>\n",
       "      <td>...</td>\n",
       "      <td>...</td>\n",
       "      <td>...</td>\n",
       "      <td>...</td>\n",
       "      <td>...</td>\n",
       "    </tr>\n",
       "    <tr>\n",
       "      <th>10195</th>\n",
       "      <td>10196</td>\n",
       "      <td>16</td>\n",
       "      <td>1000</td>\n",
       "      <td>False</td>\n",
       "      <td>0</td>\n",
       "      <td>0</td>\n",
       "      <td>1</td>\n",
       "      <td>0</td>\n",
       "    </tr>\n",
       "    <tr>\n",
       "      <th>10196</th>\n",
       "      <td>10197</td>\n",
       "      <td>25</td>\n",
       "      <td>600</td>\n",
       "      <td>False</td>\n",
       "      <td>0</td>\n",
       "      <td>1</td>\n",
       "      <td>0</td>\n",
       "      <td>0</td>\n",
       "    </tr>\n",
       "    <tr>\n",
       "      <th>10197</th>\n",
       "      <td>10198</td>\n",
       "      <td>23</td>\n",
       "      <td>300</td>\n",
       "      <td>False</td>\n",
       "      <td>0</td>\n",
       "      <td>1</td>\n",
       "      <td>0</td>\n",
       "      <td>0</td>\n",
       "    </tr>\n",
       "    <tr>\n",
       "      <th>10198</th>\n",
       "      <td>10199</td>\n",
       "      <td>13</td>\n",
       "      <td>600</td>\n",
       "      <td>False</td>\n",
       "      <td>0</td>\n",
       "      <td>0</td>\n",
       "      <td>1</td>\n",
       "      <td>0</td>\n",
       "    </tr>\n",
       "    <tr>\n",
       "      <th>10199</th>\n",
       "      <td>10200</td>\n",
       "      <td>21</td>\n",
       "      <td>300</td>\n",
       "      <td>False</td>\n",
       "      <td>1</td>\n",
       "      <td>0</td>\n",
       "      <td>0</td>\n",
       "      <td>0</td>\n",
       "    </tr>\n",
       "  </tbody>\n",
       "</table>\n",
       "<p>10200 rows × 8 columns</p>\n",
       "</div>"
      ],
      "text/plain": [
       "        d_id  age  capacity   fail  model_Fujitsu  model_Hitachi  \\\n",
       "0          1   15      1000   True              0              1   \n",
       "1          2   23      1000   True              1              0   \n",
       "2          3   23      1000   True              0              0   \n",
       "3          4   14      1000   True              0              1   \n",
       "4          5   18       600   True              0              1   \n",
       "...      ...  ...       ...    ...            ...            ...   \n",
       "10195  10196   16      1000  False              0              0   \n",
       "10196  10197   25       600  False              0              1   \n",
       "10197  10198   23       300  False              0              1   \n",
       "10198  10199   13       600  False              0              0   \n",
       "10199  10200   21       300  False              1              0   \n",
       "\n",
       "       model_Seagate  model_Toshiba  \n",
       "0                  0              0  \n",
       "1                  0              0  \n",
       "2                  1              0  \n",
       "3                  0              0  \n",
       "4                  0              0  \n",
       "...              ...            ...  \n",
       "10195              1              0  \n",
       "10196              0              0  \n",
       "10197              0              0  \n",
       "10198              1              0  \n",
       "10199              0              0  \n",
       "\n",
       "[10200 rows x 8 columns]"
      ]
     },
     "execution_count": 10,
     "metadata": {},
     "output_type": "execute_result"
    }
   ],
   "source": [
    "#Q2\n",
    "# We used the function that we received to change capacity from string to int representation\n",
    "def change_capacity(data):\n",
    "    # A function that receives a data frame and a column name as input and map the categorical capacity feature to numeric \n",
    "    di = dict(zip(conf_data[\"capacity\"].unique(), [1000, 600, 300]))\n",
    "\n",
    "    return data.replace({\"capacity\": di}, inplace=False)\n",
    "\n",
    "new_conf_data = change_capacity(conf_data)\n",
    "new_conf_data = pd.get_dummies(new_conf_data)\n",
    "new_conf_data"
   ]
  },
  {
   "cell_type": "markdown",
   "id": "e8c61908",
   "metadata": {
    "_uuid": "f810629084c501953dcc89013acd6becc0b03527",
    "papermill": {
     "duration": 0.040881,
     "end_time": "2021-11-19T11:39:03.932878",
     "exception": false,
     "start_time": "2021-11-19T11:39:03.891997",
     "status": "completed"
    },
    "tags": []
   },
   "source": [
    "# Merge the aggregated time-series and the configuration datasets"
   ]
  },
  {
   "cell_type": "code",
   "execution_count": 11,
   "id": "fb9edb1e",
   "metadata": {
    "_uuid": "a7f25a095cc490b5390df499b934a517d61f0322",
    "execution": {
     "iopub.execute_input": "2021-11-19T11:39:04.024244Z",
     "iopub.status.busy": "2021-11-19T11:39:04.022454Z",
     "iopub.status.idle": "2021-11-19T11:39:04.069888Z",
     "shell.execute_reply": "2021-11-19T11:39:04.069324Z",
     "shell.execute_reply.started": "2021-11-19T11:38:01.979552Z"
    },
    "papermill": {
     "duration": 0.095694,
     "end_time": "2021-11-19T11:39:04.070039",
     "exception": false,
     "start_time": "2021-11-19T11:39:03.974345",
     "status": "completed"
    },
    "tags": []
   },
   "outputs": [
    {
     "name": "stdout",
     "output_type": "stream",
     "text": [
      "Index(['bb_count_mean', 'r-w_rate_mean', 'reconsects_count_mean',\n",
      "       'recovbydrv_count_mean', 'xfer_rate_mean', 'bb_diffs_mean',\n",
      "       'bb_count_median', 'r-w_rate_median', 'reconsects_count_median',\n",
      "       'recovbydrv_count_median', 'xfer_rate_median', 'bb_diffs_median',\n",
      "       'bb_count_var', 'r-w_rate_var', 'reconsects_count_var',\n",
      "       'recovbydrv_count_var', 'xfer_rate_var', 'bb_diffs_var', 'bb_count_min',\n",
      "       'r-w_rate_min', 'reconsects_count_min', 'recovbydrv_count_min',\n",
      "       'xfer_rate_min', 'bb_diffs_min', 'bb_count_max', 'r-w_rate_max',\n",
      "       'reconsects_count_max', 'recovbydrv_count_max', 'xfer_rate_max',\n",
      "       'bb_diffs_max', 'age', 'capacity', 'model_Fujitsu', 'model_Hitachi',\n",
      "       'model_Seagate', 'model_Toshiba'],\n",
      "      dtype='object')\n"
     ]
    },
    {
     "data": {
      "text/html": [
       "<div>\n",
       "<style scoped>\n",
       "    .dataframe tbody tr th:only-of-type {\n",
       "        vertical-align: middle;\n",
       "    }\n",
       "\n",
       "    .dataframe tbody tr th {\n",
       "        vertical-align: top;\n",
       "    }\n",
       "\n",
       "    .dataframe thead th {\n",
       "        text-align: right;\n",
       "    }\n",
       "</style>\n",
       "<table border=\"1\" class=\"dataframe\">\n",
       "  <thead>\n",
       "    <tr style=\"text-align: right;\">\n",
       "      <th></th>\n",
       "      <th>bb_count_mean</th>\n",
       "      <th>r-w_rate_mean</th>\n",
       "      <th>reconsects_count_mean</th>\n",
       "      <th>recovbydrv_count_mean</th>\n",
       "      <th>xfer_rate_mean</th>\n",
       "      <th>bb_diffs_mean</th>\n",
       "      <th>bb_count_median</th>\n",
       "      <th>r-w_rate_median</th>\n",
       "      <th>reconsects_count_median</th>\n",
       "      <th>recovbydrv_count_median</th>\n",
       "      <th>...</th>\n",
       "      <th>reconsects_count_max</th>\n",
       "      <th>recovbydrv_count_max</th>\n",
       "      <th>xfer_rate_max</th>\n",
       "      <th>bb_diffs_max</th>\n",
       "      <th>age</th>\n",
       "      <th>capacity</th>\n",
       "      <th>model_Fujitsu</th>\n",
       "      <th>model_Hitachi</th>\n",
       "      <th>model_Seagate</th>\n",
       "      <th>model_Toshiba</th>\n",
       "    </tr>\n",
       "  </thead>\n",
       "  <tbody>\n",
       "    <tr>\n",
       "      <th>0</th>\n",
       "      <td>75.05</td>\n",
       "      <td>11.30</td>\n",
       "      <td>0.00</td>\n",
       "      <td>96.75</td>\n",
       "      <td>82.60</td>\n",
       "      <td>0.00</td>\n",
       "      <td>75.5</td>\n",
       "      <td>11.0</td>\n",
       "      <td>0.0</td>\n",
       "      <td>91.5</td>\n",
       "      <td>...</td>\n",
       "      <td>0</td>\n",
       "      <td>199</td>\n",
       "      <td>104</td>\n",
       "      <td>0</td>\n",
       "      <td>15</td>\n",
       "      <td>1000</td>\n",
       "      <td>0</td>\n",
       "      <td>1</td>\n",
       "      <td>0</td>\n",
       "      <td>0</td>\n",
       "    </tr>\n",
       "    <tr>\n",
       "      <th>1</th>\n",
       "      <td>102.35</td>\n",
       "      <td>18.80</td>\n",
       "      <td>3.00</td>\n",
       "      <td>121.70</td>\n",
       "      <td>82.55</td>\n",
       "      <td>0.00</td>\n",
       "      <td>97.0</td>\n",
       "      <td>18.0</td>\n",
       "      <td>3.0</td>\n",
       "      <td>124.0</td>\n",
       "      <td>...</td>\n",
       "      <td>3</td>\n",
       "      <td>209</td>\n",
       "      <td>100</td>\n",
       "      <td>0</td>\n",
       "      <td>23</td>\n",
       "      <td>1000</td>\n",
       "      <td>1</td>\n",
       "      <td>0</td>\n",
       "      <td>0</td>\n",
       "      <td>0</td>\n",
       "    </tr>\n",
       "    <tr>\n",
       "      <th>2</th>\n",
       "      <td>153.30</td>\n",
       "      <td>20.00</td>\n",
       "      <td>5.00</td>\n",
       "      <td>166.00</td>\n",
       "      <td>93.90</td>\n",
       "      <td>0.00</td>\n",
       "      <td>152.0</td>\n",
       "      <td>21.5</td>\n",
       "      <td>5.0</td>\n",
       "      <td>170.0</td>\n",
       "      <td>...</td>\n",
       "      <td>5</td>\n",
       "      <td>284</td>\n",
       "      <td>104</td>\n",
       "      <td>0</td>\n",
       "      <td>23</td>\n",
       "      <td>1000</td>\n",
       "      <td>0</td>\n",
       "      <td>0</td>\n",
       "      <td>1</td>\n",
       "      <td>0</td>\n",
       "    </tr>\n",
       "    <tr>\n",
       "      <th>3</th>\n",
       "      <td>96.05</td>\n",
       "      <td>20.00</td>\n",
       "      <td>-2.00</td>\n",
       "      <td>154.90</td>\n",
       "      <td>112.85</td>\n",
       "      <td>0.00</td>\n",
       "      <td>99.0</td>\n",
       "      <td>19.5</td>\n",
       "      <td>-2.0</td>\n",
       "      <td>151.5</td>\n",
       "      <td>...</td>\n",
       "      <td>-2</td>\n",
       "      <td>322</td>\n",
       "      <td>134</td>\n",
       "      <td>0</td>\n",
       "      <td>14</td>\n",
       "      <td>1000</td>\n",
       "      <td>0</td>\n",
       "      <td>1</td>\n",
       "      <td>0</td>\n",
       "      <td>0</td>\n",
       "    </tr>\n",
       "    <tr>\n",
       "      <th>4</th>\n",
       "      <td>140.45</td>\n",
       "      <td>9.55</td>\n",
       "      <td>29.05</td>\n",
       "      <td>149.15</td>\n",
       "      <td>94.75</td>\n",
       "      <td>2.50</td>\n",
       "      <td>146.0</td>\n",
       "      <td>9.5</td>\n",
       "      <td>31.5</td>\n",
       "      <td>145.0</td>\n",
       "      <td>...</td>\n",
       "      <td>53</td>\n",
       "      <td>265</td>\n",
       "      <td>117</td>\n",
       "      <td>7</td>\n",
       "      <td>18</td>\n",
       "      <td>600</td>\n",
       "      <td>0</td>\n",
       "      <td>1</td>\n",
       "      <td>0</td>\n",
       "      <td>0</td>\n",
       "    </tr>\n",
       "    <tr>\n",
       "      <th>...</th>\n",
       "      <td>...</td>\n",
       "      <td>...</td>\n",
       "      <td>...</td>\n",
       "      <td>...</td>\n",
       "      <td>...</td>\n",
       "      <td>...</td>\n",
       "      <td>...</td>\n",
       "      <td>...</td>\n",
       "      <td>...</td>\n",
       "      <td>...</td>\n",
       "      <td>...</td>\n",
       "      <td>...</td>\n",
       "      <td>...</td>\n",
       "      <td>...</td>\n",
       "      <td>...</td>\n",
       "      <td>...</td>\n",
       "      <td>...</td>\n",
       "      <td>...</td>\n",
       "      <td>...</td>\n",
       "      <td>...</td>\n",
       "      <td>...</td>\n",
       "    </tr>\n",
       "    <tr>\n",
       "      <th>10195</th>\n",
       "      <td>110.00</td>\n",
       "      <td>8.55</td>\n",
       "      <td>12.15</td>\n",
       "      <td>146.40</td>\n",
       "      <td>87.10</td>\n",
       "      <td>0.65</td>\n",
       "      <td>115.5</td>\n",
       "      <td>8.0</td>\n",
       "      <td>13.5</td>\n",
       "      <td>146.5</td>\n",
       "      <td>...</td>\n",
       "      <td>18</td>\n",
       "      <td>279</td>\n",
       "      <td>103</td>\n",
       "      <td>2</td>\n",
       "      <td>16</td>\n",
       "      <td>1000</td>\n",
       "      <td>0</td>\n",
       "      <td>0</td>\n",
       "      <td>1</td>\n",
       "      <td>0</td>\n",
       "    </tr>\n",
       "    <tr>\n",
       "      <th>10196</th>\n",
       "      <td>123.40</td>\n",
       "      <td>15.20</td>\n",
       "      <td>53.55</td>\n",
       "      <td>58.55</td>\n",
       "      <td>82.50</td>\n",
       "      <td>4.80</td>\n",
       "      <td>127.0</td>\n",
       "      <td>15.5</td>\n",
       "      <td>53.0</td>\n",
       "      <td>63.5</td>\n",
       "      <td>...</td>\n",
       "      <td>103</td>\n",
       "      <td>82</td>\n",
       "      <td>98</td>\n",
       "      <td>10</td>\n",
       "      <td>25</td>\n",
       "      <td>600</td>\n",
       "      <td>0</td>\n",
       "      <td>1</td>\n",
       "      <td>0</td>\n",
       "      <td>0</td>\n",
       "    </tr>\n",
       "    <tr>\n",
       "      <th>10197</th>\n",
       "      <td>52.95</td>\n",
       "      <td>11.15</td>\n",
       "      <td>31.70</td>\n",
       "      <td>218.70</td>\n",
       "      <td>70.65</td>\n",
       "      <td>2.40</td>\n",
       "      <td>56.5</td>\n",
       "      <td>10.0</td>\n",
       "      <td>32.0</td>\n",
       "      <td>226.0</td>\n",
       "      <td>...</td>\n",
       "      <td>55</td>\n",
       "      <td>380</td>\n",
       "      <td>89</td>\n",
       "      <td>7</td>\n",
       "      <td>23</td>\n",
       "      <td>300</td>\n",
       "      <td>0</td>\n",
       "      <td>1</td>\n",
       "      <td>0</td>\n",
       "      <td>0</td>\n",
       "    </tr>\n",
       "    <tr>\n",
       "      <th>10198</th>\n",
       "      <td>89.50</td>\n",
       "      <td>6.90</td>\n",
       "      <td>50.25</td>\n",
       "      <td>151.80</td>\n",
       "      <td>62.40</td>\n",
       "      <td>4.10</td>\n",
       "      <td>88.0</td>\n",
       "      <td>7.5</td>\n",
       "      <td>50.0</td>\n",
       "      <td>153.5</td>\n",
       "      <td>...</td>\n",
       "      <td>90</td>\n",
       "      <td>267</td>\n",
       "      <td>76</td>\n",
       "      <td>8</td>\n",
       "      <td>13</td>\n",
       "      <td>600</td>\n",
       "      <td>0</td>\n",
       "      <td>0</td>\n",
       "      <td>1</td>\n",
       "      <td>0</td>\n",
       "    </tr>\n",
       "    <tr>\n",
       "      <th>10199</th>\n",
       "      <td>137.60</td>\n",
       "      <td>9.75</td>\n",
       "      <td>23.10</td>\n",
       "      <td>140.80</td>\n",
       "      <td>84.95</td>\n",
       "      <td>0.90</td>\n",
       "      <td>139.0</td>\n",
       "      <td>10.0</td>\n",
       "      <td>23.5</td>\n",
       "      <td>139.5</td>\n",
       "      <td>...</td>\n",
       "      <td>32</td>\n",
       "      <td>209</td>\n",
       "      <td>106</td>\n",
       "      <td>3</td>\n",
       "      <td>21</td>\n",
       "      <td>300</td>\n",
       "      <td>1</td>\n",
       "      <td>0</td>\n",
       "      <td>0</td>\n",
       "      <td>0</td>\n",
       "    </tr>\n",
       "  </tbody>\n",
       "</table>\n",
       "<p>10200 rows × 36 columns</p>\n",
       "</div>"
      ],
      "text/plain": [
       "       bb_count_mean  r-w_rate_mean  reconsects_count_mean  \\\n",
       "0              75.05          11.30                   0.00   \n",
       "1             102.35          18.80                   3.00   \n",
       "2             153.30          20.00                   5.00   \n",
       "3              96.05          20.00                  -2.00   \n",
       "4             140.45           9.55                  29.05   \n",
       "...              ...            ...                    ...   \n",
       "10195         110.00           8.55                  12.15   \n",
       "10196         123.40          15.20                  53.55   \n",
       "10197          52.95          11.15                  31.70   \n",
       "10198          89.50           6.90                  50.25   \n",
       "10199         137.60           9.75                  23.10   \n",
       "\n",
       "       recovbydrv_count_mean  xfer_rate_mean  bb_diffs_mean  bb_count_median  \\\n",
       "0                      96.75           82.60           0.00             75.5   \n",
       "1                     121.70           82.55           0.00             97.0   \n",
       "2                     166.00           93.90           0.00            152.0   \n",
       "3                     154.90          112.85           0.00             99.0   \n",
       "4                     149.15           94.75           2.50            146.0   \n",
       "...                      ...             ...            ...              ...   \n",
       "10195                 146.40           87.10           0.65            115.5   \n",
       "10196                  58.55           82.50           4.80            127.0   \n",
       "10197                 218.70           70.65           2.40             56.5   \n",
       "10198                 151.80           62.40           4.10             88.0   \n",
       "10199                 140.80           84.95           0.90            139.0   \n",
       "\n",
       "       r-w_rate_median  reconsects_count_median  recovbydrv_count_median  ...  \\\n",
       "0                 11.0                      0.0                     91.5  ...   \n",
       "1                 18.0                      3.0                    124.0  ...   \n",
       "2                 21.5                      5.0                    170.0  ...   \n",
       "3                 19.5                     -2.0                    151.5  ...   \n",
       "4                  9.5                     31.5                    145.0  ...   \n",
       "...                ...                      ...                      ...  ...   \n",
       "10195              8.0                     13.5                    146.5  ...   \n",
       "10196             15.5                     53.0                     63.5  ...   \n",
       "10197             10.0                     32.0                    226.0  ...   \n",
       "10198              7.5                     50.0                    153.5  ...   \n",
       "10199             10.0                     23.5                    139.5  ...   \n",
       "\n",
       "       reconsects_count_max  recovbydrv_count_max  xfer_rate_max  \\\n",
       "0                         0                   199            104   \n",
       "1                         3                   209            100   \n",
       "2                         5                   284            104   \n",
       "3                        -2                   322            134   \n",
       "4                        53                   265            117   \n",
       "...                     ...                   ...            ...   \n",
       "10195                    18                   279            103   \n",
       "10196                   103                    82             98   \n",
       "10197                    55                   380             89   \n",
       "10198                    90                   267             76   \n",
       "10199                    32                   209            106   \n",
       "\n",
       "       bb_diffs_max  age  capacity  model_Fujitsu  model_Hitachi  \\\n",
       "0                 0   15      1000              0              1   \n",
       "1                 0   23      1000              1              0   \n",
       "2                 0   23      1000              0              0   \n",
       "3                 0   14      1000              0              1   \n",
       "4                 7   18       600              0              1   \n",
       "...             ...  ...       ...            ...            ...   \n",
       "10195             2   16      1000              0              0   \n",
       "10196            10   25       600              0              1   \n",
       "10197             7   23       300              0              1   \n",
       "10198             8   13       600              0              0   \n",
       "10199             3   21       300              1              0   \n",
       "\n",
       "       model_Seagate  model_Toshiba  \n",
       "0                  0              0  \n",
       "1                  0              0  \n",
       "2                  1              0  \n",
       "3                  0              0  \n",
       "4                  0              0  \n",
       "...              ...            ...  \n",
       "10195              1              0  \n",
       "10196              0              0  \n",
       "10197              0              0  \n",
       "10198              1              0  \n",
       "10199              0              0  \n",
       "\n",
       "[10200 rows x 36 columns]"
      ]
     },
     "execution_count": 11,
     "metadata": {},
     "output_type": "execute_result"
    }
   ],
   "source": [
    "#Q3\n",
    "# We merged on 'd_id' the DF we got from q1 with DF from q2 to DF named q3 and includes all our columns\n",
    "q3 = q1.merge(new_conf_data, on=['d_id']).drop(['d_id'],axis=1)\n",
    "fails = q3['fail']\n",
    "q3 = q3.drop(['fail'],axis=1)\n",
    "print(q3.columns)\n",
    "q3"
   ]
  },
  {
   "cell_type": "markdown",
   "id": "845d6d94",
   "metadata": {
    "_uuid": "956022c6df071588f65311d2ac94326e71996707",
    "papermill": {
     "duration": 0.042451,
     "end_time": "2021-11-19T11:39:04.155175",
     "exception": false,
     "start_time": "2021-11-19T11:39:04.112724",
     "status": "completed"
    },
    "tags": []
   },
   "source": [
    "# Select the 10 most informative features and transform the data"
   ]
  },
  {
   "cell_type": "code",
   "execution_count": 12,
   "id": "a429c3b3",
   "metadata": {
    "_uuid": "dd7234f60319e9228799e26a899f0fe10f0e17f8",
    "execution": {
     "iopub.execute_input": "2021-11-19T11:39:04.249965Z",
     "iopub.status.busy": "2021-11-19T11:39:04.249208Z",
     "iopub.status.idle": "2021-11-19T11:39:04.276860Z",
     "shell.execute_reply": "2021-11-19T11:39:04.277414Z",
     "shell.execute_reply.started": "2021-11-19T11:38:02.026877Z"
    },
    "papermill": {
     "duration": 0.079288,
     "end_time": "2021-11-19T11:39:04.277591",
     "exception": false,
     "start_time": "2021-11-19T11:39:04.198303",
     "status": "completed"
    },
    "tags": []
   },
   "outputs": [
    {
     "name": "stdout",
     "output_type": "stream",
     "text": [
      "                    Specs        Score\n",
      "4          xfer_rate_mean  1029.216835\n",
      "10       xfer_rate_median  1002.944099\n",
      "28          xfer_rate_max   883.997173\n",
      "22          xfer_rate_min   866.972330\n",
      "20   reconsects_count_min   515.916407\n",
      "1           r-w_rate_mean   478.533113\n",
      "7         r-w_rate_median   469.299498\n",
      "19           r-w_rate_min   409.775864\n",
      "25           r-w_rate_max   376.424183\n",
      "2   reconsects_count_mean   338.074517\n"
     ]
    },
    {
     "data": {
      "text/plain": [
       "array([[ 11.3 ,   0.  ,  82.6 , ...,  69.  ,  18.  , 104.  ],\n",
       "       [ 18.8 ,   3.  ,  82.55, ...,  69.  ,  27.  , 100.  ],\n",
       "       [ 20.  ,   5.  ,  93.9 , ...,  77.  ,  28.  , 104.  ],\n",
       "       ...,\n",
       "       [ 11.15,  31.7 ,  70.65, ...,  55.  ,  17.  ,  89.  ],\n",
       "       [  6.9 ,  50.25,  62.4 , ...,  49.  ,  12.  ,  76.  ],\n",
       "       [  9.75,  23.1 ,  84.95, ...,  73.  ,  16.  , 106.  ]])"
      ]
     },
     "execution_count": 12,
     "metadata": {},
     "output_type": "execute_result"
    }
   ],
   "source": [
    "#Q4\n",
    "\n",
    "# We apply SelectKBest class to extract top 10 best features from our merged DF q3\n",
    "bestfeatures = SelectKBest(score_func=f_classif, k=10)\n",
    "fit = bestfeatures.fit(q3,fails)\n",
    "dfscores = pd.DataFrame(fit.scores_)\n",
    "dfcolumns = pd.DataFrame(q3.columns)\n",
    "#concat two dataframes for better visualization \n",
    "featureScores = pd.concat([dfcolumns,dfscores],axis=1)\n",
    "featureScores.columns = ['Specs','Score']  #naming the dataframe columns\n",
    "print(featureScores.nlargest(10,'Score'))  #print 10 best features\n",
    "fit_trans = bestfeatures.fit_transform(q3,fails)\n",
    "fit_trans"
   ]
  },
  {
   "cell_type": "markdown",
   "id": "72a263d0",
   "metadata": {
    "_uuid": "23960bcea1a9bfaeb0628a92681da342aea749a8",
    "papermill": {
     "duration": 0.042916,
     "end_time": "2021-11-19T11:39:04.363929",
     "exception": false,
     "start_time": "2021-11-19T11:39:04.321013",
     "status": "completed"
    },
    "tags": []
   },
   "source": [
    "# Train a Decision tree classifier \n",
    "\n",
    "Since we are learning and testing on the same set we will limit the maximum depth parameter to 5 to prevent overfitting"
   ]
  },
  {
   "cell_type": "code",
   "execution_count": 13,
   "id": "0db8ddb4",
   "metadata": {
    "_uuid": "a199b5d70023648d1a3b22b3e2aa8e1cd6ddf836",
    "execution": {
     "iopub.execute_input": "2021-11-19T11:39:04.455806Z",
     "iopub.status.busy": "2021-11-19T11:39:04.455101Z",
     "iopub.status.idle": "2021-11-19T11:39:04.563705Z",
     "shell.execute_reply": "2021-11-19T11:39:04.563101Z",
     "shell.execute_reply.started": "2021-11-19T11:38:02.063502Z"
    },
    "papermill": {
     "duration": 0.154734,
     "end_time": "2021-11-19T11:39:04.563872",
     "exception": false,
     "start_time": "2021-11-19T11:39:04.409138",
     "status": "completed"
    },
    "scrolled": true,
    "tags": []
   },
   "outputs": [],
   "source": [
    "#Q5\n",
    "# In this block split our data to train and test and train our 3 DTC with different depths\n",
    "from sklearn.model_selection import train_test_split\n",
    "X_train, X_test, y_train, y_test = train_test_split(fit_trans, fails, stratify=fails, test_size=0.25)\n",
    "clf = DecisionTreeClassifier()\n",
    "clf1 = DecisionTreeClassifier(max_depth=5)\n",
    "clf2 = DecisionTreeClassifier(max_depth=10)\n",
    "\n",
    "clf = clf.fit(X_train,y_train)\n",
    "clf1 = clf1.fit(X_train,y_train)\n",
    "clf2 = clf2.fit(X_train,y_train)"
   ]
  },
  {
   "cell_type": "markdown",
   "id": "3058872f",
   "metadata": {
    "_uuid": "1113a8133abda565e4b77968a88c5def6c6669f9",
    "papermill": {
     "duration": 0.04275,
     "end_time": "2021-11-19T11:39:04.649977",
     "exception": false,
     "start_time": "2021-11-19T11:39:04.607227",
     "status": "completed"
    },
    "tags": []
   },
   "source": [
    "# Make the prediction and plot the confusion matrix\n",
    "https://en.wikipedia.org/wiki/Confusion_matrix\n",
    "\n",
    "* Change \"max_depth\" paramter to see what happens to model results\n"
   ]
  },
  {
   "cell_type": "code",
   "execution_count": 14,
   "id": "38f02a49",
   "metadata": {
    "_uuid": "2da1b7d3bdadf5f2993ce47601d2b01e602d6f63",
    "execution": {
     "iopub.execute_input": "2021-11-19T11:39:04.744697Z",
     "iopub.status.busy": "2021-11-19T11:39:04.743223Z",
     "iopub.status.idle": "2021-11-19T11:39:05.417509Z",
     "shell.execute_reply": "2021-11-19T11:39:05.417005Z",
     "shell.execute_reply.started": "2021-11-19T11:38:02.162689Z"
    },
    "papermill": {
     "duration": 0.724396,
     "end_time": "2021-11-19T11:39:05.417683",
     "exception": false,
     "start_time": "2021-11-19T11:39:04.693287",
     "status": "completed"
    },
    "tags": []
   },
   "outputs": [
    {
     "name": "stdout",
     "output_type": "stream",
     "text": [
      "              precision    recall  f1-score   support\n",
      "\n",
      "       False       0.99      0.99      0.99      2500\n",
      "        True       0.61      0.66      0.63        50\n",
      "\n",
      "    accuracy                           0.99      2550\n",
      "   macro avg       0.80      0.83      0.81      2550\n",
      "weighted avg       0.99      0.99      0.99      2550\n",
      "\n",
      "              precision    recall  f1-score   support\n",
      "\n",
      "       False       0.99      1.00      0.99      2500\n",
      "        True       0.76      0.70      0.73        50\n",
      "\n",
      "    accuracy                           0.99      2550\n",
      "   macro avg       0.88      0.85      0.86      2550\n",
      "weighted avg       0.99      0.99      0.99      2550\n",
      "\n",
      "              precision    recall  f1-score   support\n",
      "\n",
      "       False       0.99      0.99      0.99      2500\n",
      "        True       0.67      0.62      0.65        50\n",
      "\n",
      "    accuracy                           0.99      2550\n",
      "   macro avg       0.83      0.81      0.82      2550\n",
      "weighted avg       0.99      0.99      0.99      2550\n",
      "\n"
     ]
    },
    {
     "data": {
      "image/png": "[encoded data removed]",
      "text/plain": [
       "<Figure size 432x288 with 2 Axes>"
      ]
     },
     "metadata": {
      "needs_background": "light"
     },
     "output_type": "display_data"
    },
    {
     "data": {
      "image/png": "[encoded data removed]",
      "text/plain": [
       "<Figure size 432x288 with 2 Axes>"
      ]
     },
     "metadata": {
      "needs_background": "light"
     },
     "output_type": "display_data"
    },
    {
     "data": {
      "image/png": "[encoded data removed]",
      "text/plain": [
       "<Figure size 432x288 with 2 Axes>"
      ]
     },
     "metadata": {
      "needs_background": "light"
     },
     "output_type": "display_data"
    }
   ],
   "source": [
    "#Q6\n",
    "# Here we predict our y from x_test and plot our confusion matrix\n",
    "from sklearn.metrics import plot_confusion_matrix, classification_report\n",
    "pred = clf.predict(X_test)\n",
    "plot_confusion_matrix(clf,X_test,y_test)\n",
    "print(classification_report(y_test, pred))\n",
    "\n",
    "pred = clf1.predict(X_test)\n",
    "plot_confusion_matrix(clf1,X_test,y_test)\n",
    "print(classification_report(y_test, pred))\n",
    "\n",
    "pred = clf2.predict(X_test)\n",
    "plot_confusion_matrix(clf2,X_test,y_test)\n",
    "print(classification_report(y_test, pred))"
   ]
  },
  {
   "cell_type": "markdown",
   "id": "d5149b0e",
   "metadata": {
    "papermill": {
     "duration": 0.045692,
     "end_time": "2021-11-19T11:39:05.572658",
     "exception": false,
     "start_time": "2021-11-19T11:39:05.526966",
     "status": "completed"
    },
    "tags": []
   },
   "source": [
    "**#Q6 - Continued**\n",
    "\n",
    "ניסינו להגביל לעומקים שונים: ללא הגבלה 5, 10, וראינו שאין תוצאות משמעותיות לשינויים.\n",
    "ציפינו לראות אוור פיטינג כשלא שמנו הגבלה אך זה לא קרה, ייתכן בגלל שכמות הדטא לא גדולה מספיק."
   ]
  },
  {
   "cell_type": "markdown",
   "id": "828f87f7",
   "metadata": {
    "papermill": {
     "duration": 0.045471,
     "end_time": "2021-11-19T11:39:05.663961",
     "exception": false,
     "start_time": "2021-11-19T11:39:05.618490",
     "status": "completed"
    },
    "tags": []
   },
   "source": [
    "# Find the error\n",
    "\n",
    "Guy claims that if you followed the instruction until Q6 then there is a mistake in the notebook and that we can not rely on the reported performance when information about a new hard drive will arrive\n",
    "\n",
    "1. Explain in words what is the error \n",
    "1. Explain in words what you have to change in order to fix the error\n",
    "1. Fix the error. Submit a fixed notebook only"
   ]
  },
  {
   "cell_type": "markdown",
   "id": "599cc234",
   "metadata": {
    "papermill": {
     "duration": 0.045366,
     "end_time": "2021-11-19T11:39:05.754976",
     "exception": false,
     "start_time": "2021-11-19T11:39:05.709610",
     "status": "completed"
    },
    "tags": []
   },
   "source": [
    "**#Q7**\n",
    "\n",
    "* בגלל שבמרבית הדאטה שקיבלנו הדיסקים תקינים אז הדאטא לא מאוזן ולכן אי אפשר לסמוך על התוצאות\n",
    "* על מנת לתקן בעיה זו נוסיף דאטא עם תיוג של דיסק פגום וכך נאזן את היחס בין הדיסקים הפגומים\n"
   ]
  },
  {
   "cell_type": "code",
   "execution_count": 15,
   "id": "26b85fce",
   "metadata": {
    "execution": {
     "iopub.execute_input": "2021-11-19T11:39:05.856441Z",
     "iopub.status.busy": "2021-11-19T11:39:05.855570Z",
     "iopub.status.idle": "2021-11-19T11:39:07.041014Z",
     "shell.execute_reply": "2021-11-19T11:39:07.040283Z",
     "shell.execute_reply.started": "2021-11-19T11:38:02.800551Z"
    },
    "papermill": {
     "duration": 1.239712,
     "end_time": "2021-11-19T11:39:07.041168",
     "exception": false,
     "start_time": "2021-11-19T11:39:05.801456",
     "status": "completed"
    },
    "tags": []
   },
   "outputs": [
    {
     "name": "stdout",
     "output_type": "stream",
     "text": [
      "              precision    recall  f1-score   support\n",
      "\n",
      "       False       0.99      0.99      0.99      2500\n",
      "        True       0.48      0.64      0.55        50\n",
      "\n",
      "    accuracy                           0.98      2550\n",
      "   macro avg       0.74      0.81      0.77      2550\n",
      "weighted avg       0.98      0.98      0.98      2550\n",
      "\n",
      "              precision    recall  f1-score   support\n",
      "\n",
      "       False       1.00      0.97      0.98      2500\n",
      "        True       0.35      0.80      0.49        50\n",
      "\n",
      "    accuracy                           0.97      2550\n",
      "   macro avg       0.67      0.89      0.74      2550\n",
      "weighted avg       0.98      0.97      0.97      2550\n",
      "\n",
      "              precision    recall  f1-score   support\n",
      "\n",
      "       False       0.99      0.98      0.99      2500\n",
      "        True       0.44      0.68      0.53        50\n",
      "\n",
      "    accuracy                           0.98      2550\n",
      "   macro avg       0.71      0.83      0.76      2550\n",
      "weighted avg       0.98      0.98      0.98      2550\n",
      "\n"
     ]
    },
    {
     "data": {
      "image/png": "[encoded data removed]",
      "text/plain": [
       "<Figure size 432x288 with 2 Axes>"
      ]
     },
     "metadata": {
      "needs_background": "light"
     },
     "output_type": "display_data"
    },
    {
     "data": {
      "image/png": "[encoded data removed]",
      "text/plain": [
       "<Figure size 432x288 with 2 Axes>"
      ]
     },
     "metadata": {
      "needs_background": "light"
     },
     "output_type": "display_data"
    },
    {
     "data": {
      "image/png": "[encoded data removed]",
      "text/plain": [
       "<Figure size 432x288 with 2 Axes>"
      ]
     },
     "metadata": {
      "needs_background": "light"
     },
     "output_type": "display_data"
    }
   ],
   "source": [
    "from imblearn.over_sampling import SMOTE\n",
    "# In this question we use the smote class to balance our train data so our small class will be balanced with the big class so we will have more accurate prediction\n",
    "sm = SMOTE()\n",
    "X_res, y_res = sm.fit_resample(X_train, y_train)\n",
    "X_restest, y_restest = sm.fit_resample(X_test, y_test)\n",
    "\n",
    "clf = clf.fit(X_res, y_res)\n",
    "clf1 = clf1.fit(X_res, y_res)\n",
    "clf2 = clf2.fit(X_res, y_res)\n",
    "\n",
    "pred = clf.predict(X_test)\n",
    "plot_confusion_matrix(clf,X_test,y_test)\n",
    "print(classification_report(y_test, pred))\n",
    "\n",
    "pred = clf1.predict(X_test)\n",
    "plot_confusion_matrix(clf1,X_test,y_test)\n",
    "print(classification_report(y_test, pred))\n",
    "\n",
    "pred = clf2.predict(X_test)\n",
    "plot_confusion_matrix(clf2,X_test,y_test)\n",
    "print(classification_report(y_test, pred))"
   ]
  },
  {
   "cell_type": "markdown",
   "id": "23d47d40",
   "metadata": {
    "papermill": {
     "duration": 0.05071,
     "end_time": "2021-11-19T11:39:07.140469",
     "exception": false,
     "start_time": "2021-11-19T11:39:07.089759",
     "status": "completed"
    },
    "tags": []
   },
   "source": [
    "# Improving the results\n",
    "Find an improvment which will increase the performance in terms of model's accuracy (https://scikit-learn.org/stable/modules/generated/sklearn.metrics.accuracy_score.html)\n",
    "\n",
    "Explain in words what did you change, document the results before and after you suggested improvment"
   ]
  },
  {
   "cell_type": "code",
   "execution_count": 16,
   "id": "eee87975",
   "metadata": {
    "execution": {
     "iopub.execute_input": "2021-11-19T11:39:07.247686Z",
     "iopub.status.busy": "2021-11-19T11:39:07.246204Z",
     "iopub.status.idle": "2021-11-19T11:39:12.010711Z",
     "shell.execute_reply": "2021-11-19T11:39:12.011191Z",
     "shell.execute_reply.started": "2021-11-19T11:38:03.813831Z"
    },
    "papermill": {
     "duration": 4.822283,
     "end_time": "2021-11-19T11:39:12.011376",
     "exception": false,
     "start_time": "2021-11-19T11:39:07.189093",
     "status": "completed"
    },
    "tags": []
   },
   "outputs": [
    {
     "name": "stdout",
     "output_type": "stream",
     "text": [
      "Accuracy of rf classifier on training set: 0.99\n",
      "Accuracy of rf classifier on test set: 0.97\n",
      "              precision    recall  f1-score   support\n",
      "\n",
      "       False       1.00      0.97      0.99      2500\n",
      "        True       0.38      0.78      0.51        50\n",
      "\n",
      "    accuracy                           0.97      2550\n",
      "   macro avg       0.69      0.88      0.75      2550\n",
      "weighted avg       0.98      0.97      0.98      2550\n",
      "\n",
      "Accuracy of rf classifier on training set: 1.00\n",
      "Accuracy of rf classifier on test set: 0.98\n",
      "              precision    recall  f1-score   support\n",
      "\n",
      "       False       1.00      0.99      0.99      2500\n",
      "        True       0.54      0.80      0.65        50\n",
      "\n",
      "    accuracy                           0.98      2550\n",
      "   macro avg       0.77      0.89      0.82      2550\n",
      "weighted avg       0.99      0.98      0.98      2550\n",
      "\n"
     ]
    },
    {
     "data": {
      "image/png": "[encoded data removed]",
      "text/plain": [
       "<Figure size 432x288 with 2 Axes>"
      ]
     },
     "metadata": {
      "needs_background": "light"
     },
     "output_type": "display_data"
    },
    {
     "data": {
      "image/png": "[encoded data removed]",
      "text/plain": [
       "<Figure size 432x288 with 2 Axes>"
      ]
     },
     "metadata": {
      "needs_background": "light"
     },
     "output_type": "display_data"
    }
   ],
   "source": [
    "#Q8\n",
    "# In this question we used different models to train on our data to see who will achieve the best results and present the outcomes with accuracy and confusion matrix\n",
    "# In this specific model(Random forest) we tried 5 different depths\n",
    "from sklearn.ensemble import RandomForestClassifier\n",
    "clf = RandomForestClassifier(max_depth=5)\n",
    "clf.fit(X_res, y_res)  \n",
    "print('Accuracy of rf classifier on training set: {:.2f}'\n",
    "     .format(clf.score(X_res, y_res)))\n",
    "print('Accuracy of rf classifier on test set: {:.2f}'\n",
    "     .format(clf.score(X_test,y_test)))\n",
    "\n",
    "pred = clf.predict(X_test)\n",
    "plot_confusion_matrix(clf,X_test,y_test)\n",
    "print(classification_report(y_test, pred))\n",
    "\n",
    "clf = RandomForestClassifier(max_depth=10)\n",
    "clf.fit(X_res, y_res)  \n",
    "print('Accuracy of rf classifier on training set: {:.2f}'\n",
    "     .format(clf.score(X_res, y_res)))\n",
    "print('Accuracy of rf classifier on test set: {:.2f}'\n",
    "     .format(clf.score(X_test,y_test)))\n",
    "\n",
    "pred = clf.predict(X_test)\n",
    "plot_confusion_matrix(clf,X_test,y_test)\n",
    "print(classification_report(y_test, pred))"
   ]
  },
  {
   "cell_type": "code",
   "execution_count": 17,
   "id": "882c29db",
   "metadata": {
    "execution": {
     "iopub.execute_input": "2021-11-19T11:39:12.119865Z",
     "iopub.status.busy": "2021-11-19T11:39:12.119108Z",
     "iopub.status.idle": "2021-11-19T11:39:13.291577Z",
     "shell.execute_reply": "2021-11-19T11:39:13.291026Z",
     "shell.execute_reply.started": "2021-11-19T11:38:08.512010Z"
    },
    "papermill": {
     "duration": 1.229503,
     "end_time": "2021-11-19T11:39:13.291740",
     "exception": false,
     "start_time": "2021-11-19T11:39:12.062237",
     "status": "completed"
    },
    "tags": []
   },
   "outputs": [
    {
     "name": "stdout",
     "output_type": "stream",
     "text": [
      "Accuracy of K-NN classifier on training set: 0.99\n",
      "Accuracy of K-NN classifier on test set: 0.97\n",
      "              precision    recall  f1-score   support\n",
      "\n",
      "       False       1.00      0.99      0.99      2500\n",
      "        True       0.54      0.80      0.65        50\n",
      "\n",
      "    accuracy                           0.98      2550\n",
      "   macro avg       0.77      0.89      0.82      2550\n",
      "weighted avg       0.99      0.98      0.98      2550\n",
      "\n"
     ]
    },
    {
     "data": {
      "image/png": "[encoded data removed]",
      "text/plain": [
       "<Figure size 432x288 with 2 Axes>"
      ]
     },
     "metadata": {
      "needs_background": "light"
     },
     "output_type": "display_data"
    }
   ],
   "source": [
    "from sklearn.neighbors import KNeighborsClassifier\n",
    "knn = KNeighborsClassifier()\n",
    "knn.fit(X_res, y_res)\n",
    "print('Accuracy of K-NN classifier on training set: {:.2f}'\n",
    "     .format(knn.score(X_res, y_res)))\n",
    "print('Accuracy of K-NN classifier on test set: {:.2f}'\n",
    "     .format(knn.score(X_test, y_test)))\n",
    "\n",
    "pred = clf.predict(X_test)\n",
    "plot_confusion_matrix(clf,X_test,y_test)\n",
    "print(classification_report(y_test, pred))\n"
   ]
  },
  {
   "cell_type": "code",
   "execution_count": 18,
   "id": "077a10b5",
   "metadata": {
    "execution": {
     "iopub.execute_input": "2021-11-19T11:39:13.404417Z",
     "iopub.status.busy": "2021-11-19T11:39:13.403752Z",
     "iopub.status.idle": "2021-11-19T11:39:13.868484Z",
     "shell.execute_reply": "2021-11-19T11:39:13.867812Z",
     "shell.execute_reply.started": "2021-11-19T11:38:09.581787Z"
    },
    "papermill": {
     "duration": 0.522661,
     "end_time": "2021-11-19T11:39:13.868668",
     "exception": false,
     "start_time": "2021-11-19T11:39:13.346007",
     "status": "completed"
    },
    "tags": []
   },
   "outputs": [
    {
     "name": "stdout",
     "output_type": "stream",
     "text": [
      "Accuracy of GNB classifier on training set: 0.97\n",
      "Accuracy of GNB classifier on test set: 0.96\n",
      "              precision    recall  f1-score   support\n",
      "\n",
      "       False       1.00      0.99      0.99      2500\n",
      "        True       0.54      0.80      0.65        50\n",
      "\n",
      "    accuracy                           0.98      2550\n",
      "   macro avg       0.77      0.89      0.82      2550\n",
      "weighted avg       0.99      0.98      0.98      2550\n",
      "\n"
     ]
    },
    {
     "data": {
      "image/png": "[encoded data removed]",
      "text/plain": [
       "<Figure size 432x288 with 2 Axes>"
      ]
     },
     "metadata": {
      "needs_background": "light"
     },
     "output_type": "display_data"
    }
   ],
   "source": [
    "from sklearn.naive_bayes import GaussianNB\n",
    "gnb = GaussianNB()\n",
    "gnb.fit(X_res, y_res)\n",
    "print('Accuracy of GNB classifier on training set: {:.2f}'\n",
    "     .format(gnb.score(X_res, y_res)))\n",
    "print('Accuracy of GNB classifier on test set: {:.2f}'\n",
    "     .format(gnb.score(X_test, y_test)))\n",
    "\n",
    "pred = clf.predict(X_test)\n",
    "plot_confusion_matrix(clf,X_test,y_test)\n",
    "print(classification_report(y_test, pred))"
   ]
  },
  {
   "cell_type": "code",
   "execution_count": 19,
   "id": "74e25a4b",
   "metadata": {
    "execution": {
     "iopub.execute_input": "2021-11-19T11:39:13.980626Z",
     "iopub.status.busy": "2021-11-19T11:39:13.979992Z",
     "iopub.status.idle": "2021-11-19T11:39:18.298050Z",
     "shell.execute_reply": "2021-11-19T11:39:18.297063Z",
     "shell.execute_reply.started": "2021-11-19T11:38:09.886902Z"
    },
    "papermill": {
     "duration": 4.37452,
     "end_time": "2021-11-19T11:39:18.298281",
     "exception": false,
     "start_time": "2021-11-19T11:39:13.923761",
     "status": "completed"
    },
    "tags": []
   },
   "outputs": [
    {
     "name": "stdout",
     "output_type": "stream",
     "text": [
      "Accuracy of XGBClassifier classifier on training set: 1.00\n",
      "Accuracy of XGBClassifier classifier on test set: 0.98\n",
      "              precision    recall  f1-score   support\n",
      "\n",
      "       False       1.00      0.98      0.99      2500\n",
      "        True       0.49      0.76      0.60        50\n",
      "\n",
      "    accuracy                           0.98      2550\n",
      "   macro avg       0.74      0.87      0.79      2550\n",
      "weighted avg       0.99      0.98      0.98      2550\n",
      "\n"
     ]
    },
    {
     "data": {
      "image/png": "[encoded data removed]",
      "text/plain": [
       "<Figure size 432x288 with 2 Axes>"
      ]
     },
     "metadata": {
      "needs_background": "light"
     },
     "output_type": "display_data"
    }
   ],
   "source": [
    "from sklearn.ensemble import GradientBoostingClassifier\n",
    "clf = GradientBoostingClassifier()\n",
    "clf.fit(X_res, y_res)\n",
    "print('Accuracy of XGBClassifier classifier on training set: {:.2f}'\n",
    "     .format(clf.score(X_res, y_res)))\n",
    "print('Accuracy of XGBClassifier classifier on test set: {:.2f}'\n",
    "     .format(clf.score(X_test, y_test)))\n",
    "\n",
    "pred = clf.predict(X_test)\n",
    "plot_confusion_matrix(clf,X_test,y_test)\n",
    "print(classification_report(y_test, pred))"
   ]
  },
  {
   "cell_type": "markdown",
   "id": "10a8c9de",
   "metadata": {
    "papermill": {
     "duration": 0.053743,
     "end_time": "2021-11-19T11:39:18.410168",
     "exception": false,
     "start_time": "2021-11-19T11:39:18.356425",
     "status": "completed"
    },
    "tags": []
   },
   "source": [
    "Not all questions will be checked"
   ]
  }
 ],
 "metadata": {
  "kernelspec": {
   "display_name": "Python 3",
   "language": "python",
   "name": "python3"
  },
  "language_info": {
   "codemirror_mode": {
    "name": "ipython",
    "version": 3
   },
   "file_extension": ".py",
   "mimetype": "text/x-python",
   "name": "python",
   "nbconvert_exporter": "python",
   "pygments_lexer": "ipython3",
   "version": "3.10.0"
  },
  "papermill": {
   "default_parameters": {},
   "duration": 47.957354,
   "end_time": "2021-11-19T11:39:19.174470",
   "environment_variables": {},
   "exception": null,
   "input_path": "__notebook__.ipynb",
   "output_path": "__notebook__.ipynb",
   "parameters": {},
   "start_time": "2021-11-19T11:38:31.217116",
   "version": "2.3.3"
  }
 },
 "nbformat": 4,
 "nbformat_minor": 5
}
